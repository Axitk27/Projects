{
  "cells": [
    {
      "cell_type": "code",
      "execution_count": null,
      "metadata": {
        "id": "aZYaAitPOxF8"
      },
      "outputs": [],
      "source": [
        "import numpy as np\n",
        "import pandas as pd"
      ]
    },
    {
      "cell_type": "code",
      "execution_count": null,
      "metadata": {},
      "outputs": [],
      "source": [
        "# Show all rows\n",
        "pd.set_option('display.max_rows', None)\n",
        "\n",
        "# Show all columns\n",
        "pd.set_option('display.max_columns', None)\n",
        "\n",
        "# Don't truncate wide cells\n",
        "pd.set_option('display.max_colwidth', None)"
      ]
    },
    {
      "cell_type": "code",
      "execution_count": null,
      "metadata": {
        "id": "L083O59FO0l4"
      },
      "outputs": [],
      "source": [
        "df = pd.read_csv('smartphones - smartphones.csv')"
      ]
    },
    {
      "cell_type": "code",
      "execution_count": null,
      "metadata": {
        "colab": {
          "base_uri": "https://localhost:8080/",
          "height": 771
        },
        "id": "J8kklfTSO2Ym",
        "outputId": "40d5fe1b-722e-484a-cdee-8d418aedb954"
      },
      "outputs": [],
      "source": [
        "df.head()"
      ]
    },
    {
      "cell_type": "markdown",
      "metadata": {
        "id": "E2jbsdZaO6uh"
      },
      "source": [
        "## Data Assessing\n",
        "\n",
        "### Quality Issues\n",
        "\n",
        "1. **model** - some brands are written diiferently like OPPO in model column `consistency`\n",
        "2. **price** - has unneccesary '₹' `validity`\n",
        "3. **price** - has ',' between numbers `validity`\n",
        "4. **price** - phone Namotel has a price of 99 `accuracy`\n",
        "5. **ratings** - missing values `completeness`\n",
        "6. **processor** - has some incorrect values for some samsung phones(row # -642,647,649,659,667,701,750,759,819,859,883,884,919,927,929,932,1002) `validity`\n",
        "7. There is ipod on row 756 `validity`\n",
        "8. **memory** - incorrect values in rows (441,485,534,553,584,610,613,642,647,649,659,667,701,750,759,819,859,884,919,927,929,932,990,1002) `validity`\n",
        "9. **battery** - incorrect values in rows(113,151,309,365,378,441,450,553,584,610,613,630,642,647,649,659,667,701,750,756,759,764,819,855,859,884,915,916,927,929,932,990,1002) `validity`\n",
        "10. **display** - sometimes frequency is not available `completeness`\n",
        "11. **display** - incorrect values in rows(378,441,450,553,584,610,613,630,642,647,649,659,667,701,750,759,764,819,859,884,915,916,927,929,932,990,1002) `validity`\n",
        "12. certain phones are foldable and the info is scattered `validity`\n",
        "13. **camera** - words like Dual, Triple and Quad are used to represent number of cameras and front and rear cameras are separated by '&'\n",
        "14. **camera** - problem with rows (100,113,151,157,161,238,273,308,309,323,324,365,367,378,394,441,450,484,506,534,553,571,572,575,584,610,613,615,630,642,647,649,659,667,684,687,705,711,723,728,750,756,759,764,792,819,846,854,855,858,883,884,896,915,916,927,929,932,945,956,990,995,1002,1016\n",
        ") `validity`\n",
        "15. **card** - sometimes contains info about os and camera `validity`\n",
        "16. **os** - sometimes contains info about bluetooth and fm radio `validity`\n",
        "17. **os** - issue with rows (324,378) `validity`\n",
        "18. **os** - sometimes contains os version name like lollipop `consistency`\n",
        "19. missing values in camera, card and os `completeness`\n",
        "20. datatype  of price and rating is incorrect `validity`\n",
        "\n",
        "\n",
        "\n",
        "### Tidiness Issues\n",
        "\n",
        "1. **sim** - can be split into 3 cols has_5g, has_NFC, has_IR_Blaster\n",
        "2. **ram** - can be split into 2 cols RAM and ROM\n",
        "3. **processor** - can be split into processor name, cores and cpu speed.\n",
        "4. **battery** - can be split into battery capacity, fast_charging_available\n",
        "5. **display** - can be split into size, resolution_width, resolution_height and frequency\n",
        "6. **camera** - can be split into front and rear camera\n",
        "7. **card** - can be split into supported, extended_upto"
      ]
    },
    {
      "cell_type": "code",
      "execution_count": null,
      "metadata": {
        "colab": {
          "base_uri": "https://localhost:8080/"
        },
        "id": "5ScqQAc1O4Pr",
        "outputId": "43e5607a-a6b3-4bb6-a6fd-3e8485a92a37"
      },
      "outputs": [],
      "source": [
        "df.head()\n",
        "df.tail()\n",
        "df.sample(5)\n",
        "#if column has a missing value then pandas will convert that into the Float"
      ]
    },
    {
      "cell_type": "code",
      "execution_count": null,
      "metadata": {},
      "outputs": [],
      "source": [
        "df.info()"
      ]
    },
    {
      "cell_type": "code",
      "execution_count": null,
      "metadata": {
        "colab": {
          "base_uri": "https://localhost:8080/",
          "height": 300
        },
        "id": "YUPXFT-vMAER",
        "outputId": "ea00124a-c92a-4363-db8d-739ef75703b1"
      },
      "outputs": [],
      "source": [
        "df.describe()"
      ]
    },
    {
      "cell_type": "code",
      "execution_count": null,
      "metadata": {
        "colab": {
          "base_uri": "https://localhost:8080/"
        },
        "id": "pgVc9mLwMkIY",
        "outputId": "96009cfd-8152-4296-c01c-81ff9a75d41e"
      },
      "outputs": [],
      "source": [
        "df.duplicated().sum()"
      ]
    },
    {
      "cell_type": "code",
      "execution_count": null,
      "metadata": {
        "id": "6Q09aFLwMwW7"
      },
      "outputs": [],
      "source": [
        "# make a copy\n",
        "df_backup = df.copy()"
      ]
    },
    {
      "cell_type": "code",
      "execution_count": null,
      "metadata": {
        "id": "y_BKbugfOesG"
      },
      "outputs": [],
      "source": [
        "#Convert price column ₹ and , with '' and convert to the integer\n",
        "df['price'] = df['price'].str.replace('₹','').str.replace(',','').astype('int')"
      ]
    },
    {
      "cell_type": "code",
      "execution_count": null,
      "metadata": {
        "colab": {
          "base_uri": "https://localhost:8080/",
          "height": 988
        },
        "id": "Xbf9XZPuOf4t",
        "outputId": "26d676b6-930e-49f4-9b68-2cd8bd501820"
      },
      "outputs": [],
      "source": [
        "#fill the data in price"
      ]
    },
    {
      "cell_type": "code",
      "execution_count": null,
      "metadata": {
        "id": "--Zv0HaIPDYI"
      },
      "outputs": [],
      "source": [
        "#because the observation which we had done start from the column no 2 and in the dataframe it is starting from the 0\n",
        "df = df.reset_index()"
      ]
    },
    {
      "cell_type": "code",
      "execution_count": null,
      "metadata": {},
      "outputs": [],
      "source": [
        "df['index'] = df['index'] + 2"
      ]
    },
    {
      "cell_type": "code",
      "execution_count": null,
      "metadata": {
        "id": "RYEKzJVnPo41"
      },
      "outputs": [],
      "source": [
        "processor_rows = set((642,647,649,659,667,701,750,759,819,859,883,884,919,927,929,932,1002))\n",
        "ram_rows = set((441,485,534,553,584,610,613,642,647,649,659,667,701,750,759,819,859,884,919,927,929,932,990,1002))\n",
        "battery_rows = set((113,151,309,365,378,441,450,553,584,610,613,630,642,647,649,659,667,701,750,756,759,764,819,855,859,884,915,916,927,929,932,990,1002))\n",
        "display_rows = set((378,441,450,553,584,610,613,630,642,647,649,659,667,701,750,759,764,819,859,884,915,916,927,929,932,990,1002))\n",
        "camera_rows = set((100,113,151,157,161,238,273,308,309,323,324,365,367,378,394,441,450,484,506,534,553,571,572,575,584,610,613,615,630,642,647,649,659,667,684,687,705,711,723,728,750,756,759,764,792,819,846,854,855,858,883,884,896,915,916,927,929,932,945,956,990,995,1002,1016 ))"
      ]
    },
    {
      "cell_type": "code",
      "execution_count": null,
      "metadata": {
        "id": "M8QaQTJ0P8i4"
      },
      "outputs": [],
      "source": [
        "# we can identify and observe the rows which has some problem\n",
        "\n",
        "problem_rows = df[df['index'].isin(processor_rows | ram_rows | battery_rows | display_rows | camera_rows)]\n"
      ]
    },
    {
      "cell_type": "code",
      "execution_count": null,
      "metadata": {
        "colab": {
          "base_uri": "https://localhost:8080/",
          "height": 1000
        },
        "id": "lq3qUFBIQeOL",
        "outputId": "8a8e424e-2e8a-46fa-f7de-5c274662e82d"
      },
      "outputs": [],
      "source": [
        "df[df['index'].isin(processor_rows & ram_rows & battery_rows & display_rows & camera_rows)]\n",
        "\n",
        "#if you take the mean of the price then you will identify that mean price of this is 3400 so that phone might not be a smart phone. So you can drop this phone"
      ]
    },
    {
      "cell_type": "code",
      "execution_count": null,
      "metadata": {
        "colab": {
          "base_uri": "https://localhost:8080/",
          "height": 1000
        },
        "id": "X-HEwwwSQp74",
        "outputId": "311c2d62-2da7-4821-b4d1-5fdf72118f48"
      },
      "outputs": [],
      "source": [
        "#dataframe is updated - now left only 3 phone with missing data\n",
        "df = df[df['price'] >= 3400]"
      ]
    },
    {
      "cell_type": "code",
      "execution_count": null,
      "metadata": {
        "id": "kOKE7ADDQ9zg"
      },
      "outputs": [],
      "source": [
        "df[df['index'].isin(processor_rows & ram_rows & battery_rows & display_rows & camera_rows)]"
      ]
    },
    {
      "cell_type": "code",
      "execution_count": null,
      "metadata": {
        "colab": {
          "base_uri": "https://localhost:8080/",
          "height": 988
        },
        "id": "SNI1YGYXRpcz",
        "outputId": "b84ca9df-6638-440f-9c64-731f1f8598b4"
      },
      "outputs": [],
      "source": [
        "df.shape"
      ]
    },
    {
      "cell_type": "code",
      "execution_count": null,
      "metadata": {
        "colab": {
          "base_uri": "https://localhost:8080/",
          "height": 375
        },
        "id": "5idCBgyWRyv1",
        "outputId": "721461cf-9f28-4c2b-ba5e-4581a5a14aa3"
      },
      "outputs": [],
      "source": [
        "#Processor Column\n",
        "\n",
        "#  --> you can drop this rows as this are feature phones\n",
        "\n",
        "df.drop([645,857,882,925],inplace=True)"
      ]
    },
    {
      "cell_type": "code",
      "execution_count": null,
      "metadata": {},
      "outputs": [],
      "source": [
        "df[df['index'].isin(processor_rows)]"
      ]
    },
    {
      "cell_type": "code",
      "execution_count": null,
      "metadata": {
        "id": "8U7F9fwwSouC"
      },
      "outputs": [],
      "source": [
        "#ram rows\n",
        "\n",
        "df[df['index'].isin(ram_rows)]"
      ]
    },
    {
      "cell_type": "code",
      "execution_count": null,
      "metadata": {
        "colab": {
          "base_uri": "https://localhost:8080/",
          "height": 343
        },
        "id": "CIuZrnquS2Fj",
        "outputId": "0bcd989d-98bf-46c8-c55d-bd1dd2118597"
      },
      "outputs": [],
      "source": [
        "df.drop([582],inplace = True)\n",
        "# no issue observed as ram will be split into ram data and rom data"
      ]
    },
    {
      "cell_type": "code",
      "execution_count": null,
      "metadata": {},
      "outputs": [],
      "source": [
        "#battery data\n",
        "\n",
        "df[df['index'].isin(battery_rows)]"
      ]
    },
    {
      "cell_type": "code",
      "execution_count": null,
      "metadata": {
        "id": "tqLXfKkMUB_J"
      },
      "outputs": [],
      "source": [
        "df.drop([376,754],inplace=True)"
      ]
    },
    {
      "cell_type": "code",
      "execution_count": null,
      "metadata": {
        "colab": {
          "base_uri": "https://localhost:8080/",
          "height": 1000
        },
        "id": "wyNZJfF-UP2w",
        "outputId": "360f04fd-c41a-4f6e-e899-c68f6221adf8"
      },
      "outputs": [],
      "source": [
        "temp_df = df[df['index'].isin(battery_rows)]"
      ]
    },
    {
      "cell_type": "code",
      "execution_count": null,
      "metadata": {
        "id": "q1SOBk_5Uga1"
      },
      "outputs": [],
      "source": [
        "x = temp_df.iloc[:,7:].shift(1,axis=1).values"
      ]
    },
    {
      "cell_type": "code",
      "execution_count": null,
      "metadata": {
        "id": "qFjcEDLtVALa"
      },
      "outputs": [],
      "source": [
        "x_index = temp_df.index"
      ]
    },
    {
      "cell_type": "code",
      "execution_count": null,
      "metadata": {
        "id": "mSquVJ4YVbaH"
      },
      "outputs": [],
      "source": [
        "df.loc[temp_df.index,temp_df.columns[7:]] = x"
      ]
    },
    {
      "cell_type": "code",
      "execution_count": null,
      "metadata": {
        "id": "SJti6_ceVvbi"
      },
      "outputs": [],
      "source": [
        "df[df['index'].isin(battery_rows)]"
      ]
    },
    {
      "cell_type": "code",
      "execution_count": null,
      "metadata": {
        "colab": {
          "base_uri": "https://localhost:8080/",
          "height": 594
        },
        "id": "ljPmmY71WHJo",
        "outputId": "0627af57-63ed-425b-e1a5-a7abb78d5b5d"
      },
      "outputs": [],
      "source": [
        "#display rows\n",
        "\n",
        "df[df['index'].isin(display_rows)]"
      ]
    },
    {
      "cell_type": "code",
      "execution_count": null,
      "metadata": {
        "id": "MqdOHoNmXEn3"
      },
      "outputs": [],
      "source": [
        "#camera rows\n",
        "\n",
        "temp_df = df[df['index'].isin(camera_rows)]\n",
        "temp_df.shape"
      ]
    },
    {
      "cell_type": "code",
      "execution_count": null,
      "metadata": {
        "id": "La_HZjLKXqM7"
      },
      "outputs": [],
      "source": [
        "df.drop([155,271],inplace = True)\n"
      ]
    },
    {
      "cell_type": "code",
      "execution_count": null,
      "metadata": {
        "id": "uIFp25RkYM7D"
      },
      "outputs": [],
      "source": [
        "temp_df1 = temp_df[~temp_df['camera'].str.contains('MP')]\n",
        "temp_df1"
      ]
    },
    {
      "cell_type": "code",
      "execution_count": null,
      "metadata": {},
      "outputs": [],
      "source": [
        "temp_df1.drop([155,271],inplace = True)"
      ]
    },
    {
      "cell_type": "code",
      "execution_count": null,
      "metadata": {
        "colab": {
          "base_uri": "https://localhost:8080/"
        },
        "id": "IHooxFzLa7D7",
        "outputId": "562c006f-f40e-48c9-9787-40b67f3790c9"
      },
      "outputs": [],
      "source": [
        "df.loc[temp_df1.index,'camera'] = temp_df1['card']"
      ]
    },
    {
      "cell_type": "code",
      "execution_count": null,
      "metadata": {
        "id": "vzqGPh8bY1U_"
      },
      "outputs": [],
      "source": [
        "#card in rows --> chaeck this way you can compare the value \n",
        "\n",
        "df['card'].value_counts()"
      ]
    },
    {
      "cell_type": "code",
      "execution_count": null,
      "metadata": {
        "id": "n4M8GQsNay6M"
      },
      "outputs": [],
      "source": [
        "temp_df = df[df['card'].str.contains(\"MP\")] "
      ]
    },
    {
      "cell_type": "code",
      "execution_count": null,
      "metadata": {
        "colab": {
          "base_uri": "https://localhost:8080/"
        },
        "id": "SqL45WzSZJci",
        "outputId": "2a0d0e1d-0af6-494c-d823-50bd07495b52"
      },
      "outputs": [],
      "source": [
        "df.loc[temp_df.index,'card'] = \"Memory Card Not Supported\""
      ]
    },
    {
      "cell_type": "code",
      "execution_count": null,
      "metadata": {
        "id": "1eXp_ySGZvgM"
      },
      "outputs": [],
      "source": [
        "# findout those rows where android and IOS are considered\n",
        "\n",
        "temp_df = df[~df['card'].str.contains('Memory Card')]"
      ]
    },
    {
      "cell_type": "code",
      "execution_count": null,
      "metadata": {
        "id": "mkUe_Vj7Z343"
      },
      "outputs": [],
      "source": [
        "df.loc[temp_df.index,'os'] = temp_df['card']\n",
        "df.loc[temp_df.index,'card'] =  \"Memory Card Not Supported\""
      ]
    },
    {
      "cell_type": "code",
      "execution_count": null,
      "metadata": {
        "id": "-LDL6XTCbK9m"
      },
      "outputs": [],
      "source": [
        "df['card'].value_counts()"
      ]
    },
    {
      "cell_type": "code",
      "execution_count": null,
      "metadata": {
        "id": "JQFYcf8Fb3j9"
      },
      "outputs": [],
      "source": [
        "#OS Card\n",
        "\n",
        "df['os'].value_counts()"
      ]
    },
    {
      "cell_type": "code",
      "execution_count": null,
      "metadata": {
        "colab": {
          "base_uri": "https://localhost:8080/"
        },
        "id": "gKcSXPsMb-iq",
        "outputId": "63b07213-4a8a-4619-8899-fd63dde363f8"
      },
      "outputs": [],
      "source": [
        "temp_df = df[df['os'].str.contains('Memory Card')]\n",
        "temp_df = temp_df[temp_df['os'].str.contains('2')]"
      ]
    },
    {
      "cell_type": "code",
      "execution_count": null,
      "metadata": {
        "colab": {
          "base_uri": "https://localhost:8080/"
        },
        "id": "CHbyQu8NcBEt",
        "outputId": "bc45b94a-2cf6-43f3-a068-c2e1fd3cae92"
      },
      "outputs": [],
      "source": [
        "df.loc[temp_df.index,'card'] = temp_df['os'].values\n",
        "df.loc[temp_df.index,'os'] = 'None'"
      ]
    },
    {
      "cell_type": "code",
      "execution_count": null,
      "metadata": {
        "id": "k-jfnYcZcJZb"
      },
      "outputs": [],
      "source": [
        "temp_df = df[df['os'] == \"Memory Card Not Supported\" ]\n",
        "df.loc[temp_df.index,'os'] = 'None'"
      ]
    },
    {
      "cell_type": "code",
      "execution_count": null,
      "metadata": {
        "id": "-KkMThzgcaia"
      },
      "outputs": [],
      "source": [
        "temp_df = df[(df['os'] == \"Bluetooth\") | (df['os'] == \"Memory Card (Hybrid)\")]\n",
        "df.loc[temp_df.index,'os'] = 'None'\n",
        "# temp_df\n"
      ]
    },
    {
      "cell_type": "code",
      "execution_count": null,
      "metadata": {
        "colab": {
          "base_uri": "https://localhost:8080/",
          "height": 510
        },
        "id": "TGzkj5ggdEwX",
        "outputId": "d09012d1-6943-4cf8-afe6-f1ef1cd4cabe"
      },
      "outputs": [],
      "source": [
        "temp_df = df[(df['os'] == \"None\")]\n",
        "df.loc[temp_df.index,'os'] = np.nan"
      ]
    },
    {
      "cell_type": "code",
      "execution_count": null,
      "metadata": {
        "colab": {
          "base_uri": "https://localhost:8080/"
        },
        "id": "ySGgbE9UecrH",
        "outputId": "fcfc8fc7-1cb3-45e9-f341-45f53584450b"
      },
      "outputs": [],
      "source": [
        "df[df['os'].str.contains('Androids')]\n",
        "#if your column has any none value then it successor "
      ]
    },
    {
      "cell_type": "code",
      "execution_count": null,
      "metadata": {
        "colab": {
          "base_uri": "https://localhost:8080/"
        },
        "id": "3WchgngAefzL",
        "outputId": "13a8068f-9329-4928-a819-c7d031caf77a"
      },
      "outputs": [],
      "source": [
        "(982/1020)*100"
      ]
    },
    {
      "cell_type": "code",
      "execution_count": null,
      "metadata": {
        "colab": {
          "base_uri": "https://localhost:8080/",
          "height": 1000
        },
        "id": "AfFmEYVZejM3",
        "outputId": "f73b41f7-0927-4cf2-b2f2-1ac84990a367"
      },
      "outputs": [],
      "source": [
        "#on every column you need to use value counts "
      ]
    },
    {
      "cell_type": "markdown",
      "metadata": {
        "colab": {
          "base_uri": "https://localhost:8080/"
        },
        "id": "CtYz-DxzfVKg",
        "outputId": "d3fc46b0-bf5f-4f9c-8498-03bfa0adec8f"
      },
      "source": [
        "# Solving the tideness issue"
      ]
    },
    {
      "cell_type": "code",
      "execution_count": null,
      "metadata": {
        "id": "NzchZPzno0h5"
      },
      "outputs": [],
      "source": [
        "#splliting model column to the brand and model\n",
        "brand_name = df['model'].str.split(' ').str.get(0)\n",
        "df.insert(1,'brand_name',brand_name) #will add the column at a first position"
      ]
    },
    {
      "cell_type": "code",
      "execution_count": null,
      "metadata": {
        "id": "y3vTEy63pHLb"
      },
      "outputs": [],
      "source": [
        "df['brand_name'] = df['brand_name'].str.lower()"
      ]
    },
    {
      "cell_type": "code",
      "execution_count": null,
      "metadata": {
        "id": "x1hJDbRMwGLL"
      },
      "outputs": [],
      "source": [
        "df.head()"
      ]
    },
    {
      "cell_type": "code",
      "execution_count": null,
      "metadata": {
        "id": "MflFWgdAwHsn"
      },
      "outputs": [],
      "source": [
        "#sim card column\n",
        "\n",
        "has_5G = df['sim'].str.contains('5G')\n",
        "has_NFC = df['sim'].str.contains('NFC')\n",
        "has_IR = df['sim'].str.contains('IR Blaster')"
      ]
    },
    {
      "cell_type": "code",
      "execution_count": null,
      "metadata": {
        "id": "Ycc0R_cDwQ1Z"
      },
      "outputs": [],
      "source": [
        "df.insert(6,'Has_5G',has_5G)\n",
        "df.insert(7,'Has_NFC',has_NFC)\n",
        "df.insert(8,'Has_IR',has_IR)"
      ]
    },
    {
      "cell_type": "code",
      "execution_count": null,
      "metadata": {
        "id": "oS-1MvXoxAAh"
      },
      "outputs": [],
      "source": [
        "df.head(2)"
      ]
    },
    {
      "cell_type": "code",
      "execution_count": null,
      "metadata": {
        "id": "5RxjTUioxV3d"
      },
      "outputs": [],
      "source": [
        "#Processor Column \n",
        "\n",
        "processor_name = df['processor'].str.split(',').str.get(0)\n",
        "processor_core = df['processor'].str.split(',').str.get(1)\n",
        "processor_frequency = df['processor'].str.split(',').str.get(2)\n"
      ]
    },
    {
      "cell_type": "code",
      "execution_count": null,
      "metadata": {
        "id": "a9EfBR5lx-KG"
      },
      "outputs": [],
      "source": [
        "df.insert(10,'Processor_name',processor_name)\n",
        "df.insert(11,'Processor_core',processor_core)\n",
        "df.insert(12,'Processor_frequency',processor_frequency)"
      ]
    },
    {
      "cell_type": "code",
      "execution_count": null,
      "metadata": {
        "id": "1oaWdZ9RyOiR"
      },
      "outputs": [],
      "source": [
        "df.head(2)"
      ]
    },
    {
      "cell_type": "code",
      "execution_count": null,
      "metadata": {
        "id": "oqL9O8D0yQh4"
      },
      "outputs": [],
      "source": [
        "df['Processor_name'] = df['Processor_name'].str.strip()"
      ]
    },
    {
      "cell_type": "code",
      "execution_count": null,
      "metadata": {
        "id": "JpkC-T1qyoXK"
      },
      "outputs": [],
      "source": [
        "temp_df = df[df['Processor_name'].str.contains('Core')][['Processor_name','Processor_core','Processor_frequency']].shift(1,axis=1)"
      ]
    },
    {
      "cell_type": "code",
      "execution_count": null,
      "metadata": {
        "colab": {
          "base_uri": "https://localhost:8080/"
        },
        "id": "rGXc0dt6tItW",
        "outputId": "a52b1152-cbbd-49c9-c66a-ee1f722c584d"
      },
      "outputs": [],
      "source": [
        "df.loc[temp_df.index,temp_df.columns] = temp_df.values"
      ]
    },
    {
      "cell_type": "code",
      "execution_count": null,
      "metadata": {},
      "outputs": [],
      "source": [
        "processor_brand = df['Processor_name'].str.split(' ').str.get(0).str.lower()"
      ]
    },
    {
      "cell_type": "code",
      "execution_count": null,
      "metadata": {},
      "outputs": [],
      "source": [
        "df.insert(11,'Processor_brand',processor_brand)"
      ]
    },
    {
      "cell_type": "code",
      "execution_count": null,
      "metadata": {},
      "outputs": [],
      "source": [
        "df.head()"
      ]
    },
    {
      "cell_type": "code",
      "execution_count": null,
      "metadata": {
        "id": "tT1PRiM9zNd-"
      },
      "outputs": [],
      "source": [
        "#Processor_core\n",
        "df['Processor_core'] = df['Processor_core'].str.strip()"
      ]
    },
    {
      "cell_type": "code",
      "execution_count": null,
      "metadata": {
        "colab": {
          "base_uri": "https://localhost:8080/"
        },
        "id": "H4XMeaxT0CKx",
        "outputId": "417addb7-af25-44b0-eb8f-1964b802400d"
      },
      "outputs": [],
      "source": [
        "df['Processor_core'] = df['Processor_core'].str.replace('Processor','').str.strip()"
      ]
    },
    {
      "cell_type": "code",
      "execution_count": null,
      "metadata": {
        "id": "WpQyAx0t0Lrz"
      },
      "outputs": [],
      "source": [
        "df['Processor_core'].value_counts()"
      ]
    },
    {
      "cell_type": "code",
      "execution_count": null,
      "metadata": {
        "id": "QDKRUpHs0scJ"
      },
      "outputs": [],
      "source": [
        "#Processor frequency column\n",
        "\n",
        "df['Processor_frequency'] = df['Processor_frequency'].str.replace('Processor','')\n",
        "df['Processor_frequency'] = df['Processor_frequency'].str.replace('GHz','')"
      ]
    },
    {
      "cell_type": "code",
      "execution_count": null,
      "metadata": {
        "id": "-kN6-lYi01mE"
      },
      "outputs": [],
      "source": [
        "df['Processor_frequency'].value_counts()"
      ]
    },
    {
      "cell_type": "code",
      "execution_count": null,
      "metadata": {
        "id": "49QOo4Kj1Mqc"
      },
      "outputs": [],
      "source": [
        "df.head()"
      ]
    },
    {
      "cell_type": "code",
      "execution_count": null,
      "metadata": {
        "id": "uzimaqp_1N0Y"
      },
      "outputs": [],
      "source": [
        "#.str is called accessor\n",
        "\n",
        "ram = df['ram'].str.split(',').str.get(0)\n",
        "rom = df['ram'].str.split(',').str.get(1)"
      ]
    },
    {
      "cell_type": "code",
      "execution_count": null,
      "metadata": {
        "id": "dQb3wnfi1e7c"
      },
      "outputs": [],
      "source": [
        "temp_df = ram[ram.str.contains('inbuilt')]\n",
        "df.loc[temp_df.index,'Rom'].shape"
      ]
    },
    {
      "cell_type": "code",
      "execution_count": null,
      "metadata": {
        "colab": {
          "base_uri": "https://localhost:8080/",
          "height": 877
        },
        "id": "eg-WJU1D1zTd",
        "outputId": "021b6489-bf58-4be5-a862-96f00d9117e5"
      },
      "outputs": [],
      "source": [
        "df.insert(15,'Ram',ram)\n",
        "df.insert(16,'Rom',rom)"
      ]
    },
    {
      "cell_type": "code",
      "execution_count": null,
      "metadata": {
        "id": "6EDlO2sS2q6U"
      },
      "outputs": [],
      "source": [
        "df.loc[temp_df.index,'Rom'] = temp_df.values"
      ]
    },
    {
      "cell_type": "code",
      "execution_count": null,
      "metadata": {},
      "outputs": [],
      "source": [
        "temp_df.index"
      ]
    },
    {
      "cell_type": "code",
      "execution_count": null,
      "metadata": {
        "colab": {
          "base_uri": "https://localhost:8080/",
          "height": 877
        },
        "id": "ZDFYEeSa6pkJ",
        "outputId": "72706bf9-f7e2-4a1e-abbe-23846596ffde"
      },
      "outputs": [],
      "source": [
        "df['Ram'] = df['Ram'].str.replace('GB','').str.replace('RAM','').str.strip()"
      ]
    },
    {
      "cell_type": "code",
      "execution_count": null,
      "metadata": {
        "id": "Fv_v6VKW6yFH"
      },
      "outputs": [],
      "source": [
        "df.loc[temp_df.index,'Ram'] = np.nan"
      ]
    },
    {
      "cell_type": "code",
      "execution_count": null,
      "metadata": {},
      "outputs": [],
      "source": [
        "df['Ram'].value_counts()"
      ]
    },
    {
      "cell_type": "code",
      "execution_count": null,
      "metadata": {
        "id": "Gc7eyYn469Lu"
      },
      "outputs": [],
      "source": [
        "df[df['Ram'] == '512 MB']"
      ]
    },
    {
      "cell_type": "code",
      "execution_count": null,
      "metadata": {},
      "outputs": [],
      "source": [
        "temp = df['Ram'].dropna()"
      ]
    },
    {
      "cell_type": "code",
      "execution_count": null,
      "metadata": {},
      "outputs": [],
      "source": [
        "df.loc[486,'Ram'] = 0.5"
      ]
    },
    {
      "cell_type": "code",
      "execution_count": null,
      "metadata": {},
      "outputs": [],
      "source": [
        "df.loc[627,'Ram'] = 0.0625"
      ]
    },
    {
      "cell_type": "code",
      "execution_count": null,
      "metadata": {
        "id": "OGsuDjKV7dXl"
      },
      "outputs": [],
      "source": [
        "df['Rom'].value_counts()"
      ]
    },
    {
      "cell_type": "code",
      "execution_count": null,
      "metadata": {
        "id": "Y6DAl-cz7fUa"
      },
      "outputs": [],
      "source": [
        "#Replace nuencence in Rom Column \n",
        "\n",
        "df['Rom'] = df['Rom'].str.replace('inbuilt','').str.strip()"
      ]
    },
    {
      "cell_type": "code",
      "execution_count": null,
      "metadata": {
        "id": "_Ld453M-8H_r"
      },
      "outputs": [],
      "source": [
        "df['Rom'] = df['Rom'].str.replace('GB',' ')\n",
        "df['Rom'] = df['Rom'].str.replace('TB',' ')"
      ]
    },
    {
      "cell_type": "code",
      "execution_count": null,
      "metadata": {
        "colab": {
          "base_uri": "https://localhost:8080/"
        },
        "id": "BW0L3iLu9p_H",
        "outputId": "636b426e-1d29-4a97-a4f7-cb0046e50308"
      },
      "outputs": [],
      "source": [
        "df['Rom'].value_counts()"
      ]
    },
    {
      "cell_type": "code",
      "execution_count": null,
      "metadata": {
        "id": "zXTWw02t-fdl"
      },
      "outputs": [],
      "source": [
        "#Convert 128MB into 0.125GB\n",
        "temp_df = df['Rom'][df['Rom'].str.contains('MB')]\n",
        "df.loc[temp_df.index,'Rom'] = 0.125"
      ]
    },
    {
      "cell_type": "code",
      "execution_count": null,
      "metadata": {},
      "outputs": [],
      "source": [
        "# df[df['Rom'] == 0]['Rom']\n",
        "df.loc[627,'Rom'] = 0.125"
      ]
    },
    {
      "cell_type": "code",
      "execution_count": null,
      "metadata": {
        "id": "Bu7SlAiJ-zY6"
      },
      "outputs": [],
      "source": [
        "#Convert Rom into int\n",
        "df['Rom'] = df['Rom'].astype(float)"
      ]
    },
    {
      "cell_type": "code",
      "execution_count": null,
      "metadata": {
        "colab": {
          "base_uri": "https://localhost:8080/"
        },
        "id": "3b6HkmYK_LJZ",
        "outputId": "c1e1541e-3141-488f-a7a0-df527f301512"
      },
      "outputs": [],
      "source": [
        "#Convert 1 Tb into 1024 GB\n",
        "temp_df = df[df['Rom'] == 1]"
      ]
    },
    {
      "cell_type": "code",
      "execution_count": null,
      "metadata": {
        "id": "ADRdKBNV_STv"
      },
      "outputs": [],
      "source": [
        "df.loc[temp_df.index,'Rom'] = 1024"
      ]
    },
    {
      "cell_type": "code",
      "execution_count": null,
      "metadata": {
        "id": "ba4fMz47BVD9"
      },
      "outputs": [],
      "source": [
        "df['Rom'].value_counts()"
      ]
    },
    {
      "cell_type": "code",
      "execution_count": null,
      "metadata": {
        "id": "XDz2Vj9YDXbU"
      },
      "outputs": [],
      "source": [
        "df.sample(4)"
      ]
    },
    {
      "cell_type": "code",
      "execution_count": null,
      "metadata": {
        "id": "JYOPjsvEC2s7"
      },
      "outputs": [],
      "source": [
        "#battery cleaning\n",
        "#battery Capacity - Fast Charging capacity - Fast Charging capacity\n",
        "battery_capacity = df['battery'].str.strip().str.split('with').str.get(0).str.strip().str.replace('mAh Battery','').str.strip().astype('float')\n",
        "df.insert(18,'Battery_capacity',battery_capacity)"
      ]
    },
    {
      "cell_type": "code",
      "execution_count": null,
      "metadata": {
        "id": "hlJ6QeO6C4IV"
      },
      "outputs": [],
      "source": [
        "# has_fast_charging = df['battery'].str.strip().str.split('with').str.get(1).str.strip().str.contains('Fast Charging')\n",
        "has_fast_charging = df['battery'].str.strip().str.split('with').str.get(1).str.strip().str.contains('Fast Charging').fillna('False')\n",
        "df.insert(19,'has_fast_charging',has_fast_charging)\n",
        "# df['battery'].str.strip().str.split('with').str.get(1).str.strip().str.contains('Fast Charging')"
      ]
    },
    {
      "cell_type": "code",
      "execution_count": null,
      "metadata": {
        "id": "VD84U4UbEpHe"
      },
      "outputs": [],
      "source": [
        "# fast_charging_capacity = df['battery'].str.strip().str.split('with').str.get(1).str.strip().str.split('Fast Charging')\n",
        "fast_charging_capacity = df['battery'].str.strip().str.split('with').str.get(1).str.strip().str.findall(r'\\d{2,3}')\n",
        "# df.insert(20,'Fast_charging_capacity',fast_charging_capacity)"
      ]
    },
    {
      "cell_type": "code",
      "execution_count": null,
      "metadata": {},
      "outputs": [],
      "source": [
        "df['Fast_charging_capacity'] = df['battery'].str.strip().str.split('with').str.get(1).str.strip().str.findall(r'\\d{2,3}')"
      ]
    },
    {
      "cell_type": "code",
      "execution_count": null,
      "metadata": {
        "id": "z3t0H1cgFMPY"
      },
      "outputs": [],
      "source": [
        "df['has_fast_charging'].value_counts()"
      ]
    },
    {
      "cell_type": "code",
      "execution_count": null,
      "metadata": {
        "id": "VofVGCg3FRTl"
      },
      "outputs": [],
      "source": [
        "df['Fast_charging_capacity'].value_counts()"
      ]
    },
    {
      "cell_type": "code",
      "execution_count": null,
      "metadata": {
        "colab": {
          "base_uri": "https://localhost:8080/",
          "height": 877
        },
        "id": "7IVCo3onF4rf",
        "outputId": "7a61e464-a3db-4ce5-cedb-fc16581a174e"
      },
      "outputs": [],
      "source": [
        "def extracting_value(x):\n",
        "    if type(x) == list:\n",
        "        if len(x) == 1:\n",
        "            return x[0]\n",
        "        else:\n",
        "            return 0\n",
        "    else:\n",
        "        return -1\n",
        "    \n",
        "df['Fast_charging_capacity'] = df['Fast_charging_capacity'].apply(extracting_value)"
      ]
    },
    {
      "cell_type": "code",
      "execution_count": null,
      "metadata": {
        "id": "-hlimaL8Hn-q"
      },
      "outputs": [],
      "source": [
        "df['Fast_charging_capacity'].value_counts(ascending = False)"
      ]
    },
    {
      "cell_type": "code",
      "execution_count": null,
      "metadata": {
        "id": "azFzrpJzF6ym"
      },
      "outputs": [],
      "source": [
        "#Display\n",
        "#screen_size \n",
        "screen_size = df['display'].str.strip().str.split(',').str.get(0).str.strip().str.split(' ').str.get(0).astype('float')"
      ]
    },
    {
      "cell_type": "code",
      "execution_count": null,
      "metadata": {
        "id": "l2AxTB_BGWhM"
      },
      "outputs": [],
      "source": [
        "px = df['display'].str.strip().str.split(',').str.get(1).str.split('px').str.get(0).str.strip()"
      ]
    },
    {
      "cell_type": "code",
      "execution_count": null,
      "metadata": {
        "id": "rV9bw-xiH97p"
      },
      "outputs": [],
      "source": [
        "refresh_rate = df['display'].str.strip().str.split(',').str.get(2).str.split('Hz').str.get(0).str.strip().fillna(60).astype('int')\n",
        "refresh_rate.value_counts()"
      ]
    },
    {
      "cell_type": "code",
      "execution_count": null,
      "metadata": {
        "id": "fpeK1cHFIIOM"
      },
      "outputs": [],
      "source": [
        "df.head(1)"
      ]
    },
    {
      "cell_type": "code",
      "execution_count": null,
      "metadata": {
        "colab": {
          "base_uri": "https://localhost:8080/",
          "height": 877
        },
        "id": "YS1PLe2uJOVy",
        "outputId": "cfc99bfb-096c-4760-e5d5-d549b9285035"
      },
      "outputs": [],
      "source": [
        "df.insert(22,'Screen_size',screen_size)\n",
        "df.insert(23,'Screen_resolution',px)\n",
        "df.insert(24,'Refresh_rate',refresh_rate)\n"
      ]
    },
    {
      "cell_type": "code",
      "execution_count": null,
      "metadata": {
        "colab": {
          "base_uri": "https://localhost:8080/",
          "height": 672
        },
        "id": "k8FdFgLgJQJA",
        "outputId": "472d6f41-80a5-42e5-d08b-dd4557373156"
      },
      "outputs": [],
      "source": [
        "df.head(1)"
      ]
    },
    {
      "cell_type": "code",
      "execution_count": null,
      "metadata": {
        "id": "9tLPmLzNJo_o"
      },
      "outputs": [],
      "source": [
        "#Camera \n",
        "def camera_counts(x):\n",
        "    if 'Quad' in x:\n",
        "        return 4\n",
        "    elif 'Triple' in x:\n",
        "        return 3\n",
        "    elif 'Dual' in x:\n",
        "        return 2\n",
        "    elif 'Missing' in x:\n",
        "        return 'Missing'\n",
        "    else:\n",
        "        return 1 \n",
        "\n"
      ]
    },
    {
      "cell_type": "code",
      "execution_count": null,
      "metadata": {},
      "outputs": [],
      "source": [
        "rear_camera = df['camera'].str.split('&').str.get(0).apply(camera_counts).fillna('Missing').astype('int')"
      ]
    },
    {
      "cell_type": "code",
      "execution_count": null,
      "metadata": {
        "colab": {
          "base_uri": "https://localhost:8080/",
          "height": 877
        },
        "id": "L93-llj2u-nm",
        "outputId": "cbfa0c0f-1ead-41d1-e0bc-b14abdee7099"
      },
      "outputs": [],
      "source": [
        "# df['camera'].str.split('&').str.get(1).fillna('Missing').apply(camera_counts)\n",
        "front_camera = df['camera'].str.split('&').str.get(1).fillna('Missing').apply(camera_counts)\n"
      ]
    },
    {
      "cell_type": "code",
      "execution_count": null,
      "metadata": {
        "id": "RwH-2m4v83V3"
      },
      "outputs": [],
      "source": [
        "df.head(2)"
      ]
    },
    {
      "cell_type": "code",
      "execution_count": null,
      "metadata": {},
      "outputs": [],
      "source": [
        "df.insert(26,'Front_camera',front_camera)\n",
        "df.insert(27,'Rear_camera',rear_camera)\n"
      ]
    },
    {
      "cell_type": "code",
      "execution_count": null,
      "metadata": {},
      "outputs": [],
      "source": [
        "df.head(2)"
      ]
    },
    {
      "cell_type": "code",
      "execution_count": null,
      "metadata": {},
      "outputs": [],
      "source": [
        "#card\n",
        "\n",
        "memory_card_support = ~df['card'].str.split(',').str.get(0).str.contains('Not')"
      ]
    },
    {
      "cell_type": "code",
      "execution_count": null,
      "metadata": {},
      "outputs": [],
      "source": [
        "df.insert(29,'Memory_card_support',memory_card_support)"
      ]
    },
    {
      "cell_type": "code",
      "execution_count": null,
      "metadata": {},
      "outputs": [],
      "source": [
        "temp_df = df['card'].str.split(',').str.get(1).str.split(' ').str.get(2).str.replace('GB','').str.replace('TB','').str.strip()"
      ]
    },
    {
      "cell_type": "code",
      "execution_count": null,
      "metadata": {},
      "outputs": [],
      "source": [
        "temp_df[temp_df == '1'] = 1024"
      ]
    },
    {
      "cell_type": "code",
      "execution_count": null,
      "metadata": {},
      "outputs": [],
      "source": [
        "temp_df.value_counts()"
      ]
    },
    {
      "cell_type": "code",
      "execution_count": null,
      "metadata": {},
      "outputs": [],
      "source": [
        "df.insert(29,'Memory_card_size',temp_df)"
      ]
    },
    {
      "cell_type": "code",
      "execution_count": null,
      "metadata": {},
      "outputs": [],
      "source": [
        "df['Memory_card_size'] = df['Memory_card_size'].fillna(0)"
      ]
    },
    {
      "cell_type": "code",
      "execution_count": null,
      "metadata": {},
      "outputs": [],
      "source": [
        "temp_df = df[df['Memory_card_size'] == '2']\n",
        "df.loc[temp_df.index,'Memory_card_size'] = 2048"
      ]
    },
    {
      "cell_type": "code",
      "execution_count": null,
      "metadata": {},
      "outputs": [],
      "source": [
        "df['Memory_card_size'] = df['Memory_card_size'].astype('int')"
      ]
    },
    {
      "cell_type": "code",
      "execution_count": null,
      "metadata": {},
      "outputs": [],
      "source": [
        "df['Memory_card_size'].value_counts()"
      ]
    },
    {
      "cell_type": "code",
      "execution_count": null,
      "metadata": {},
      "outputs": [],
      "source": [
        "df[df['Memory_card_size'] == 2048]"
      ]
    },
    {
      "cell_type": "code",
      "execution_count": null,
      "metadata": {},
      "outputs": [],
      "source": [
        "#os - > os_name , version\n",
        "\n",
        "os_name = df['os'].str.strip().str.split(' ').str.get(0).str.lower().str.strip()\n",
        "os_version = df['os'].str.strip().str.split(' ').str.get(1).str.lower().str.strip()"
      ]
    },
    {
      "cell_type": "code",
      "execution_count": null,
      "metadata": {},
      "outputs": [],
      "source": [
        "temp_df1 = os_version[os_version == 'os']\n",
        "temp_df2 = os_version[os_version == '(series']\n",
        "temp_df2"
      ]
    },
    {
      "cell_type": "code",
      "execution_count": null,
      "metadata": {},
      "outputs": [],
      "source": [
        "os_version.value_counts()"
      ]
    },
    {
      "cell_type": "code",
      "execution_count": null,
      "metadata": {},
      "outputs": [],
      "source": [
        "df.insert(31,'Os_name',os_name)\n",
        "df.insert(32,'Os_version',os_version)"
      ]
    },
    {
      "cell_type": "code",
      "execution_count": null,
      "metadata": {},
      "outputs": [],
      "source": [
        "df.loc[temp_df2.index]"
      ]
    },
    {
      "cell_type": "code",
      "execution_count": null,
      "metadata": {},
      "outputs": [],
      "source": [
        "df.loc[483,'Os_version'] = 'v3.0'\n",
        "df.loc[597,'Os_version'] = 'Missing'\n",
        "df.loc[724,'Os_version'] = 'v4.0'\n",
        "df.loc[627,'Os_version'] = 'Missing'"
      ]
    },
    {
      "cell_type": "code",
      "execution_count": null,
      "metadata": {},
      "outputs": [],
      "source": [
        "df.head(2)"
      ]
    },
    {
      "cell_type": "code",
      "execution_count": null,
      "metadata": {},
      "outputs": [],
      "source": [
        "final_df = df.copy()"
      ]
    },
    {
      "cell_type": "code",
      "execution_count": null,
      "metadata": {},
      "outputs": [],
      "source": [
        "final_df = final_df.drop(columns= ['index','sim','processor','ram','battery','display','camera','card','os'])"
      ]
    },
    {
      "cell_type": "code",
      "execution_count": null,
      "metadata": {},
      "outputs": [],
      "source": [
        "final_df.rename(columns={'brand_name':'Brand_name','model':'Model','price':'Price','rating':'Rating','has_fast_charging':'Has_fast_charging'},inplace=True)"
      ]
    },
    {
      "cell_type": "code",
      "execution_count": null,
      "metadata": {},
      "outputs": [],
      "source": [
        "final_df.info()"
      ]
    },
    {
      "cell_type": "code",
      "execution_count": null,
      "metadata": {},
      "outputs": [],
      "source": [
        "final_df['Processor_frequency'] = final_df['Processor_frequency'].astype(float)"
      ]
    },
    {
      "cell_type": "code",
      "execution_count": null,
      "metadata": {},
      "outputs": [],
      "source": [
        "final_df['Ram'] = final_df['Ram'].astype('float')"
      ]
    },
    {
      "cell_type": "code",
      "execution_count": null,
      "metadata": {},
      "outputs": [],
      "source": [
        "final_df['Price'].describe()"
      ]
    },
    {
      "cell_type": "code",
      "execution_count": null,
      "metadata": {},
      "outputs": [],
      "source": [
        "final_df.to_csv('Phone_cleaned_data')"
      ]
    },
    {
      "cell_type": "code",
      "execution_count": null,
      "metadata": {},
      "outputs": [],
      "source": []
    }
  ],
  "metadata": {
    "colab": {
      "provenance": []
    },
    "kernelspec": {
      "display_name": "Machinelearning_new",
      "language": "python",
      "name": "python3"
    },
    "language_info": {
      "codemirror_mode": {
        "name": "ipython",
        "version": 3
      },
      "file_extension": ".py",
      "mimetype": "text/x-python",
      "name": "python",
      "nbconvert_exporter": "python",
      "pygments_lexer": "ipython3",
      "version": "3.11.11"
    }
  },
  "nbformat": 4,
  "nbformat_minor": 0
}
