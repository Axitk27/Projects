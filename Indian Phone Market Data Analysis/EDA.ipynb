{
 "cells": [
  {
   "cell_type": "code",
   "execution_count": null,
   "id": "d5854756",
   "metadata": {},
   "outputs": [],
   "source": [
    "import numpy as np\n",
    "import pandas as pd\n",
    "import seaborn as sns\n",
    "import matplotlib.pyplot as plt"
   ]
  },
  {
   "cell_type": "code",
   "execution_count": null,
   "id": "a3f87ad4",
   "metadata": {},
   "outputs": [],
   "source": [
    "pd.set_option('display.max_columns', None)\n",
    "pd.set_option('display.max_rows', None)"
   ]
  },
  {
   "cell_type": "code",
   "execution_count": null,
   "id": "fbd959f0",
   "metadata": {},
   "outputs": [],
   "source": [
    "df = pd.read_csv('Phone_cleaned_data')"
   ]
  },
  {
   "cell_type": "code",
   "execution_count": null,
   "id": "56837104",
   "metadata": {},
   "outputs": [],
   "source": [
    "df.drop(columns=['Unnamed: 0','Processor_name'],inplace = True)"
   ]
  },
  {
   "cell_type": "code",
   "execution_count": null,
   "id": "d60860ea",
   "metadata": {},
   "outputs": [],
   "source": [
    "df.info()"
   ]
  },
  {
   "cell_type": "code",
   "execution_count": null,
   "id": "9b57469b",
   "metadata": {},
   "outputs": [],
   "source": [
    "#Columns \n",
    "\n",
    "#Numerical Column - Price,Rating,Processor_frequency,Ram,Rom,Battery_capacity,Fast_charging_capacity,Screen_size,Refresh_rate,Rear_camera,Memory_card_size\n",
    "#Categorical Column - Brand_name,Model,Has_5G,Has_NFC,Has_IR,Processor_brand,Processor_core,Has_fast_charging,Screen_resolution,Front_camera,Memory_card_support,Os_name,Os_version\n"
   ]
  },
  {
   "cell_type": "code",
   "execution_count": null,
   "id": "644d501b",
   "metadata": {},
   "outputs": [],
   "source": [
    "df.isnull().sum()\n",
    "\n",
    "#Conclusion \n",
    "#Missing value are present in Column Rating,Processor_brand,Processor_core,Processor_frequency,Ram,Battery_capacity,Os_name,Os_version"
   ]
  },
  {
   "cell_type": "markdown",
   "id": "6a21830d",
   "metadata": {},
   "source": [
    "# 1. Univariate Analysis \n",
    "\n",
    "### we will do the Univariate analysis of the all the column which is available to us\n",
    "\n"
   ]
  },
  {
   "cell_type": "markdown",
   "id": "a8739770",
   "metadata": {},
   "source": [
    "## 1. Categorical Column "
   ]
  },
  {
   "cell_type": "code",
   "execution_count": null,
   "id": "9fb3f43d",
   "metadata": {},
   "outputs": [],
   "source": [
    "#Brand_name\n",
    "plt.figure(figsize=(20,10))\n",
    "sns.countplot(data=df,x='Brand_name')\n",
    "plt.xticks(rotation=30)   # Rotate y-axis labels by 30 degrees\n",
    "plt.show()\n",
    "\n",
    "#Conclusion - After watching this graph we can see that Xiomi has the most number of the phone available in the indian market and on the second number it is \n",
    "#Samsung and followed by Vivo.\n",
    "\n",
    "#Liest amount of the phone are tough to get from this graph"
   ]
  },
  {
   "cell_type": "code",
   "execution_count": null,
   "id": "0e1d0fd1",
   "metadata": {},
   "outputs": [],
   "source": [
    "df['Brand_name'].value_counts().tail(25).plot(kind='bar')\n",
    "\n",
    "#Conclusion - You can see in the graph that there are some companies avalible in indian phone market which are having less than 4 model of phone "
   ]
  },
  {
   "cell_type": "code",
   "execution_count": null,
   "id": "6efc3c4e",
   "metadata": {},
   "outputs": [],
   "source": [
    "df['Brand_name'].value_counts().head(10).plot(kind='pie',autopct = '%0.1f%%')\n"
   ]
  },
  {
   "cell_type": "code",
   "execution_count": null,
   "id": "a4fae6fe",
   "metadata": {},
   "outputs": [],
   "source": [
    "#model\n",
    "df['Model'].value_counts()\n",
    "#Conclusion - From My pointof view, You will not get any usefull information from this column "
   ]
  },
  {
   "cell_type": "code",
   "execution_count": null,
   "id": "93b07b14",
   "metadata": {},
   "outputs": [],
   "source": [
    "#has_5g\n",
    "\n",
    "sns.countplot(data=df,x='Has_5G',stat='percent')\n",
    "\n",
    "# Conclusion - Almost 55% Phone which are available in the indian market are offering 5g Connection simcard"
   ]
  },
  {
   "cell_type": "code",
   "execution_count": null,
   "id": "aeff528a",
   "metadata": {},
   "outputs": [],
   "source": [
    "#has_5g\n",
    "\n",
    "sns.countplot(data=df,x='Has_NFC',stat='percent')\n",
    "\n",
    "# Conclusion - Almost 60% Phone which are available in the indian market are not offering NFC(Near Field Communication) Compatability and 40% Phone are offerng this Compatability"
   ]
  },
  {
   "cell_type": "code",
   "execution_count": null,
   "id": "ab39a520",
   "metadata": {},
   "outputs": [],
   "source": [
    "df[df['Has_NFC'] == True]['Brand_name'].value_counts().head(10).plot(kind='pie',autopct='%0.1f%%')\n",
    "\n",
    "#Conclusion - The Phone which are giving this compatabilty are most from the samsung then followed by apple and then xioami"
   ]
  },
  {
   "cell_type": "code",
   "execution_count": null,
   "id": "1b997e98",
   "metadata": {},
   "outputs": [],
   "source": [
    "#has_IR\n",
    "\n",
    "sns.countplot(data=df,x='Has_IR',stat='percent')\n",
    "\n",
    "# Conclusion - Almost 85% Phone which are available in the indian market are not offering IR(Infrared Compatability)"
   ]
  },
  {
   "cell_type": "code",
   "execution_count": null,
   "id": "745058b2",
   "metadata": {},
   "outputs": [],
   "source": [
    "#Processor Brand\n",
    "\n",
    "df['Processor_brand'].value_counts().plot(kind='bar')"
   ]
  },
  {
   "cell_type": "code",
   "execution_count": null,
   "id": "3988ddac",
   "metadata": {},
   "outputs": [],
   "source": [
    "df['Processor_brand'].value_counts().head(10).plot(kind='pie',autopct='%0.1f%%')"
   ]
  },
  {
   "cell_type": "code",
   "execution_count": null,
   "id": "25afbc1a",
   "metadata": {},
   "outputs": [],
   "source": [
    "#Conclusion - Almost 43.1% Phone in indian market are having snapdragron processor followed by helio and then dimensity processor"
   ]
  },
  {
   "cell_type": "code",
   "execution_count": null,
   "id": "9a0fef0c",
   "metadata": {},
   "outputs": [],
   "source": [
    "#Procrssor Core\n",
    "\n",
    "df['Processor_core'].value_counts().plot(kind='bar')"
   ]
  },
  {
   "cell_type": "code",
   "execution_count": null,
   "id": "0edb5866",
   "metadata": {},
   "outputs": [],
   "source": [
    "df['Processor_core'].value_counts().plot(kind='pie',autopct='%0.1f%%')"
   ]
  },
  {
   "cell_type": "code",
   "execution_count": null,
   "id": "a2337ddf",
   "metadata": {},
   "outputs": [],
   "source": [
    "#Conclusion - 92,2% Phone in Indian Market having the Octa Core Processor"
   ]
  },
  {
   "cell_type": "code",
   "execution_count": null,
   "id": "f0d92644",
   "metadata": {},
   "outputs": [],
   "source": [
    "#Ram \n",
    "df['Ram'].value_counts().plot(kind='bar')"
   ]
  },
  {
   "cell_type": "code",
   "execution_count": null,
   "id": "ae9051f0",
   "metadata": {},
   "outputs": [],
   "source": [
    "df['Ram'].value_counts().plot(kind='pie',autopct='%0.1f%%')"
   ]
  },
  {
   "cell_type": "code",
   "execution_count": null,
   "id": "c251aa1d",
   "metadata": {},
   "outputs": [],
   "source": [
    "df['Ram'].isna().sum()"
   ]
  },
  {
   "cell_type": "code",
   "execution_count": null,
   "id": "2b315b7a",
   "metadata": {},
   "outputs": [],
   "source": [
    "#Conclusion - almost 34.6% Phone which are available in indian market are offering 8Gb of Ram then followed by 23.9% are 6Gb of Ram and then 22.0% Phone are offering 4Gb of Ram.\n",
    "#There are 3 Values are missing "
   ]
  },
  {
   "cell_type": "code",
   "execution_count": null,
   "id": "4bcde5c1",
   "metadata": {},
   "outputs": [],
   "source": [
    "#Rom\n",
    "\n",
    "df['Rom'].value_counts().plot(kind='bar') "
   ]
  },
  {
   "cell_type": "code",
   "execution_count": null,
   "id": "2a22be3f",
   "metadata": {},
   "outputs": [],
   "source": [
    "df['Rom'].value_counts().plot(kind='pie',autopct='%0.1f%%') "
   ]
  },
  {
   "cell_type": "code",
   "execution_count": null,
   "id": "a931c0b9",
   "metadata": {},
   "outputs": [],
   "source": [
    "df['Rom'].isna().sum()"
   ]
  },
  {
   "cell_type": "code",
   "execution_count": null,
   "id": "95a78afa",
   "metadata": {},
   "outputs": [],
   "source": [
    "#Conclusion - There are no missing value in the data\n",
    "#almost 53.3% Phone which are available in the indian market are having the Rom of 128Gb and then followed by 64Gb and 256Gb of phone"
   ]
  },
  {
   "cell_type": "code",
   "execution_count": null,
   "id": "ff8a4357",
   "metadata": {},
   "outputs": [],
   "source": [
    "#has_fast_charging \n",
    "df['Has_fast_charging'].value_counts().plot(kind='bar')"
   ]
  },
  {
   "cell_type": "code",
   "execution_count": null,
   "id": "705559be",
   "metadata": {},
   "outputs": [],
   "source": [
    "df['Has_fast_charging'].value_counts().plot(kind='pie',autopct='%0.1f%%')"
   ]
  },
  {
   "cell_type": "code",
   "execution_count": null,
   "id": "a77b21fe",
   "metadata": {},
   "outputs": [],
   "source": [
    "#Conclusion \n",
    "\n",
    "# As per the pie chart, we can say that almost 85% phone are having now Fast Charging availablity "
   ]
  },
  {
   "cell_type": "code",
   "execution_count": null,
   "id": "8d725674",
   "metadata": {},
   "outputs": [],
   "source": [
    "# Screen_resolution \n",
    "df['Screen_resolution'].value_counts()\n",
    "#this column we can not take direct as a univariate analysis as we need to do feature engineering on this and maybe conver this column to the three other category \n",
    "\n",
    "# for example \n",
    "# HD:\n",
    "# Often refers to 1280x720 pixels, providing a standard level of detail. \n",
    "# HD+:\n",
    "# Can refer to 1600x900 (also known as 720p+) or 1600x720 (a common aspect ratio for some smartphones), offering slightly more pixels than standard HD. \n",
    "# FHD (Full HD):\n",
    "# A more detailed resolution of 1920x1080 pixels, commonly found in mid-range to high-end devices. \n",
    "# FHD+ (Full HD Plus):\n",
    "# Can be 1920x1200 (offering a bit more vertical view) or other variations like 2160x1080 or 2400x1080, popular in various smartphones. \n",
    "# QHD (Quad HD):\n",
    "# A high-resolution option of 2560x1440 pixels, often found in premium devices. "
   ]
  },
  {
   "cell_type": "code",
   "execution_count": null,
   "id": "210d5fb1",
   "metadata": {},
   "outputs": [],
   "source": [
    "#Memory Card Support \n",
    "\n",
    "100*df['Memory_card_support'].value_counts()/(df.shape[0])"
   ]
  },
  {
   "cell_type": "code",
   "execution_count": null,
   "id": "7ca173b3",
   "metadata": {},
   "outputs": [],
   "source": [
    "#Conclusion \n",
    "#Almost 64% of phone available in indian market are providing the Memory Card Support "
   ]
  },
  {
   "cell_type": "code",
   "execution_count": null,
   "id": "0c449f24",
   "metadata": {},
   "outputs": [],
   "source": [
    "#Os name & Os Version \n",
    "\n",
    "df['Os_name'].value_counts().plot(kind = 'bar')"
   ]
  },
  {
   "cell_type": "code",
   "execution_count": null,
   "id": "1fef0eb1",
   "metadata": {},
   "outputs": [],
   "source": [
    "df['Os_name'].value_counts().plot(kind = 'pie',autopct='%0.1f%%')"
   ]
  },
  {
   "cell_type": "code",
   "execution_count": null,
   "id": "bbe9ca75",
   "metadata": {},
   "outputs": [],
   "source": [
    "#Conclusion \n",
    "#Almost 94% Phone are having the android and rest of the phone are having ios os system"
   ]
  },
  {
   "cell_type": "code",
   "execution_count": null,
   "id": "51f84402",
   "metadata": {},
   "outputs": [],
   "source": [
    "#Refreshrate\n",
    "\n",
    "df['Refresh_rate'].value_counts().plot(kind='bar')"
   ]
  },
  {
   "cell_type": "code",
   "execution_count": null,
   "id": "756d1181",
   "metadata": {},
   "outputs": [],
   "source": [
    "df['Refresh_rate'].value_counts().plot(kind='pie',autopct='%0.1f%%')"
   ]
  },
  {
   "cell_type": "code",
   "execution_count": null,
   "id": "08f5dc4e",
   "metadata": {},
   "outputs": [],
   "source": [
    "#Conclusion \n",
    "#60Hz Frequnecy rate are normal in a indian Phone market then followed by 120Hz in 35% phone"
   ]
  },
  {
   "cell_type": "code",
   "execution_count": null,
   "id": "3fba6645",
   "metadata": {},
   "outputs": [],
   "source": [
    "#Front_camera\n",
    "\n",
    "sns.countplot(data=df,x='Front_camera')"
   ]
  },
  {
   "cell_type": "code",
   "execution_count": null,
   "id": "a13b2004",
   "metadata": {},
   "outputs": [],
   "source": [
    "df[df['Front_camera'] != 'Missing']['Front_camera'].value_counts().plot(kind='pie',autopct='%0.1f%%')"
   ]
  },
  {
   "cell_type": "code",
   "execution_count": null,
   "id": "3e2548a3",
   "metadata": {},
   "outputs": [],
   "source": [
    "#Conclusion - There are some missing value available in front camera section \n",
    "#almost all Phone are having one Camera in the front"
   ]
  },
  {
   "cell_type": "code",
   "execution_count": null,
   "id": "c3685b00",
   "metadata": {},
   "outputs": [],
   "source": [
    "#Rear_camera\n",
    "\n",
    "df[df['Rear_camera'] == 'Missing']"
   ]
  },
  {
   "cell_type": "code",
   "execution_count": null,
   "id": "489cd531",
   "metadata": {},
   "outputs": [],
   "source": [
    "df.loc[temp_df.index,'Rear_camera'] = 'Missing'"
   ]
  },
  {
   "cell_type": "code",
   "execution_count": null,
   "id": "798e1217",
   "metadata": {},
   "outputs": [],
   "source": [
    "df['Rear_camera'].value_counts().plot(kind='bar')"
   ]
  },
  {
   "cell_type": "code",
   "execution_count": null,
   "id": "5a8b7e11",
   "metadata": {},
   "outputs": [],
   "source": [
    "df['Rear_camera'].value_counts().plot(kind='pie',autopct='%0.1f%%')"
   ]
  },
  {
   "cell_type": "code",
   "execution_count": null,
   "id": "86db2944",
   "metadata": {},
   "outputs": [],
   "source": [
    "#Conclusion \n",
    "#Almost 56% Phone are having the Phone with 3 camera at the backside of the phone\n",
    "#There are some Missing Value which should be taken care "
   ]
  },
  {
   "cell_type": "code",
   "execution_count": null,
   "id": "7ee55b85",
   "metadata": {},
   "outputs": [],
   "source": [
    "df['Memory_card_size'].value_counts().plot(kind='bar')"
   ]
  },
  {
   "cell_type": "code",
   "execution_count": null,
   "id": "dce0856c",
   "metadata": {},
   "outputs": [],
   "source": [
    "df['Memory_card_size'].value_counts().plot(kind='pie',autopct='%0.1f%%')"
   ]
  },
  {
   "cell_type": "code",
   "execution_count": null,
   "id": "ad02d67a",
   "metadata": {},
   "outputs": [],
   "source": [
    "#Conclusion - There are no missing value in this column \n",
    "#almost half of the available phone are not providing the Memory card support so companies are thinking this technoly are now outdated\n",
    "#and may be they are now more investing in a Rom "
   ]
  },
  {
   "cell_type": "code",
   "execution_count": null,
   "id": "371ecb93",
   "metadata": {},
   "outputs": [],
   "source": [
    "#os_version\n",
    "df['Os_version'].value_counts().head(10).plot(kind='pie',autopct='%0.1f%%')"
   ]
  },
  {
   "cell_type": "code",
   "execution_count": null,
   "id": "18a30c1d",
   "metadata": {},
   "outputs": [],
   "source": [
    "#Conclusion - Not gettting any information regarding the Which brand. Almost 41% Phone are having V12 of OS"
   ]
  },
  {
   "cell_type": "code",
   "execution_count": null,
   "id": "fa18d7f5",
   "metadata": {},
   "outputs": [],
   "source": [
    "#Memory_card_size\n",
    "sns.countplot(data=df,x='Memory_card_size')"
   ]
  },
  {
   "cell_type": "code",
   "execution_count": null,
   "id": "15a707eb",
   "metadata": {},
   "outputs": [],
   "source": [
    "df['Memory_card_size'].value_counts().plot(kind='pie',autopct='%0.1f%%')"
   ]
  },
  {
   "cell_type": "markdown",
   "id": "7198f519",
   "metadata": {},
   "source": [
    "## 2 Numerical Column "
   ]
  },
  {
   "cell_type": "code",
   "execution_count": null,
   "id": "a6cf1cf9",
   "metadata": {},
   "outputs": [],
   "source": [
    "#price - Numerical Column\n",
    "df['Price'].describe()"
   ]
  },
  {
   "cell_type": "code",
   "execution_count": null,
   "id": "13b6c139",
   "metadata": {},
   "outputs": [],
   "source": [
    "sns.displot(kind='hist',data = df , x = 'Price',kde=True)"
   ]
  },
  {
   "cell_type": "code",
   "execution_count": null,
   "metadata": {},
   "outputs": [],
   "source": [
    "df['Price'].skew() #Positive Skew"
   ]
  },
  {
   "cell_type": "code",
   "execution_count": null,
   "id": "553ffcc1",
   "metadata": {},
   "outputs": [],
   "source": [
    "sns.boxplot(data=df,x='Price')"
   ]
  },
  {
   "cell_type": "code",
   "execution_count": null,
   "id": "2f20e948",
   "metadata": {},
   "outputs": [],
   "source": [
    "temp_df = df[df['Price'] <= 200000] #outlier Detection "
   ]
  },
  {
   "cell_type": "code",
   "execution_count": null,
   "id": "deda31e4",
   "metadata": {},
   "outputs": [],
   "source": [
    "df['Price'].isnull().sum()"
   ]
  },
  {
   "cell_type": "code",
   "execution_count": null,
   "id": "3fe1ec4b",
   "metadata": {},
   "outputs": [],
   "source": [
    "#Conclusion - The distribution in this column is Positive skewed distribution\n",
    "#There are some outliers available in this column which should be removed \n",
    "#There is no missing value"
   ]
  },
  {
   "cell_type": "code",
   "execution_count": null,
   "id": "685d511c",
   "metadata": {},
   "outputs": [],
   "source": [
    "#rating column\n",
    "df['Rating'].describe()"
   ]
  },
  {
   "cell_type": "code",
   "execution_count": null,
   "id": "73ac60ce",
   "metadata": {},
   "outputs": [],
   "source": [
    "sns.displot(data=df,x='Rating',kde=True)"
   ]
  },
  {
   "cell_type": "code",
   "execution_count": null,
   "id": "acd2f216",
   "metadata": {},
   "outputs": [],
   "source": [
    "df['Rating'].skew() # Normal Distribution"
   ]
  },
  {
   "cell_type": "code",
   "execution_count": null,
   "id": "ac2e4eb3",
   "metadata": {},
   "outputs": [],
   "source": [
    "sns.boxplot(data=df,x='Rating')"
   ]
  },
  {
   "cell_type": "code",
   "execution_count": null,
   "id": "198dad48",
   "metadata": {},
   "outputs": [],
   "source": [
    "100*df['Rating'].isnull().sum()/982 "
   ]
  },
  {
   "cell_type": "code",
   "execution_count": null,
   "id": "0595ccc5",
   "metadata": {},
   "outputs": [],
   "source": [
    "#Conclusion \n",
    "#There is a negatively skewed distribuion so not a normal distribution technique we can use on this set of data\n",
    "#No Outliers\n",
    "#10% data is still missing, it should be filled"
   ]
  },
  {
   "cell_type": "code",
   "execution_count": null,
   "id": "31a3147c",
   "metadata": {},
   "outputs": [],
   "source": [
    "#Battery Capacity\n",
    "\n",
    "df['Battery_capacity'].describe()"
   ]
  },
  {
   "cell_type": "code",
   "execution_count": null,
   "id": "12ecbb13",
   "metadata": {},
   "outputs": [],
   "source": [
    "sns.displot(data=df,x='Battery_capacity',kde=True)"
   ]
  },
  {
   "cell_type": "code",
   "execution_count": null,
   "id": "d731bc36",
   "metadata": {},
   "outputs": [],
   "source": [
    "df['Battery_capacity'].skew()"
   ]
  },
  {
   "cell_type": "code",
   "execution_count": null,
   "id": "2c097538",
   "metadata": {},
   "outputs": [],
   "source": [
    "df['Battery_capacity'].isna().sum()"
   ]
  },
  {
   "cell_type": "code",
   "execution_count": null,
   "id": "1ccf058f",
   "metadata": {},
   "outputs": [],
   "source": [
    "sns.boxplot(data=df,x='Battery_capacity')"
   ]
  },
  {
   "cell_type": "code",
   "execution_count": null,
   "id": "642bee45",
   "metadata": {},
   "outputs": [],
   "source": [
    "df[df['Battery_capacity']<4500]['Brand_name'].value_counts()"
   ]
  },
  {
   "cell_type": "code",
   "execution_count": null,
   "id": "f6a6d749",
   "metadata": {},
   "outputs": [],
   "source": [
    "#Conclusion \n",
    "#There some missing value in this column \n",
    "#There are some outliers in this column but we need to check wheather this data are really outlier or there are having this value in terms of real\n",
    "#Percentil 50 and Percentile 75 has the same value what does this mean? Maybe this column is a categorical column "
   ]
  },
  {
   "cell_type": "code",
   "execution_count": null,
   "id": "cb188de5",
   "metadata": {},
   "outputs": [],
   "source": [
    "#Screen_size\n",
    "df['Screen_size'].describe()"
   ]
  },
  {
   "cell_type": "code",
   "execution_count": null,
   "id": "2829de5e",
   "metadata": {},
   "outputs": [],
   "source": [
    "df['Screen_size'].isna().sum()"
   ]
  },
  {
   "cell_type": "code",
   "execution_count": null,
   "id": "b8e9f0df",
   "metadata": {},
   "outputs": [],
   "source": [
    "# df['Screen_size'].plot(kind='kde')\n",
    "sns.displot(data=df,x='Screen_size',kde=True)"
   ]
  },
  {
   "cell_type": "code",
   "execution_count": null,
   "id": "f40ec158",
   "metadata": {},
   "outputs": [],
   "source": [
    "df['Screen_size'].skew()"
   ]
  },
  {
   "cell_type": "code",
   "execution_count": null,
   "id": "59ea326f",
   "metadata": {},
   "outputs": [],
   "source": [
    "sns.boxplot(data=df,x='Screen_size')"
   ]
  },
  {
   "cell_type": "code",
   "execution_count": null,
   "id": "704d1745",
   "metadata": {},
   "outputs": [],
   "source": [
    "#Conclusion \n",
    "\n",
    "#data has some outliers\n",
    "#data has negative skewness"
   ]
  },
  {
   "cell_type": "code",
   "execution_count": null,
   "id": "bda3c0f8",
   "metadata": {},
   "outputs": [],
   "source": [
    "#Processor_frequency \n",
    "\n",
    "df['Processor_frequency'].value_counts().plot(kind='kde')"
   ]
  },
  {
   "cell_type": "code",
   "execution_count": null,
   "id": "882538ec",
   "metadata": {},
   "outputs": [],
   "source": [
    "df['Processor_frequency'].value_counts().plot(kind='box')"
   ]
  },
  {
   "cell_type": "code",
   "execution_count": null,
   "id": "0c4a6dcb",
   "metadata": {},
   "outputs": [],
   "source": [
    "#Conclusion\n",
    "#Normal distribution \n",
    "#it has some outliers which should be removed"
   ]
  },
  {
   "cell_type": "markdown",
   "id": "d9e801b2",
   "metadata": {},
   "source": [
    "# 2. Bivariat Analysis\n"
   ]
  },
  {
   "cell_type": "markdown",
   "id": "69e9122c",
   "metadata": {},
   "source": [
    "## 1 Numerical Numerical Analysis"
   ]
  },
  {
   "cell_type": "code",
   "execution_count": null,
   "id": "86de79b5",
   "metadata": {},
   "outputs": [],
   "source": [
    "#Price and Rating\n",
    "\n",
    "sns.scatterplot(data=df,y='Price',x='Rating')"
   ]
  },
  {
   "cell_type": "code",
   "execution_count": null,
   "id": "fb403123",
   "metadata": {},
   "outputs": [],
   "source": [
    "sns.lineplot(data=df,y='Price',x='Rating')"
   ]
  },
  {
   "cell_type": "code",
   "execution_count": null,
   "id": "b5c98068",
   "metadata": {},
   "outputs": [],
   "source": [
    "#Price and Screen_size\n",
    "\n",
    "sns.scatterplot(data=df,y='Price',x='Screen_size')"
   ]
  },
  {
   "cell_type": "code",
   "execution_count": null,
   "id": "6d0fb421",
   "metadata": {},
   "outputs": [],
   "source": [
    "sns.lineplot(data=df,y='Price',x='Screen_size')"
   ]
  },
  {
   "cell_type": "code",
   "execution_count": null,
   "id": "c8638898",
   "metadata": {},
   "outputs": [],
   "source": [
    "#Price and Batter_capacity\n",
    "\n",
    "sns.scatterplot(data=df,y='Price',x='Battery_capacity')"
   ]
  },
  {
   "cell_type": "code",
   "execution_count": null,
   "id": "b329e26e",
   "metadata": {},
   "outputs": [],
   "source": [
    "sns.lineplot(data=df,y='Price',x='Battery_capacity')"
   ]
  },
  {
   "cell_type": "code",
   "execution_count": null,
   "id": "ddb75c83",
   "metadata": {},
   "outputs": [],
   "source": [
    "#Price and Processor_frequency\n",
    "\n",
    "sns.relplot(data=df,x='Processor_frequency',y='Price',kind='scatter')"
   ]
  },
  {
   "cell_type": "code",
   "execution_count": null,
   "id": "f98b8c6b",
   "metadata": {},
   "outputs": [],
   "source": [
    "sns.relplot(data=df,x='Processor_frequency',y='Price',kind='line')"
   ]
  },
  {
   "cell_type": "code",
   "execution_count": null,
   "id": "25fa68c8",
   "metadata": {},
   "outputs": [],
   "source": [
    "#Conclusion \n",
    "#Most of the phone which are having the Frequency of 2Ghz to 4 Ghz are having the price less than 2lacs"
   ]
  },
  {
   "cell_type": "markdown",
   "id": "597f27df",
   "metadata": {},
   "source": [
    "## 2 Numerical and Categorical Column "
   ]
  },
  {
   "cell_type": "code",
   "execution_count": null,
   "id": "b7624780",
   "metadata": {},
   "outputs": [],
   "source": [
    "#Brand and Price - Apple is charging more for their phone - Black line represent - Confidential interval - Brand name is affecting the column \n",
    "phone_data = df['Brand_name'].value_counts()[df['Brand_name'].value_counts() > 5].index\n",
    "temp_df = df[df['Brand_name'].isin(phone_data)]\n",
    "plt.figure(figsize=(40,10))\n",
    "sns.barplot(data=temp_df,x='Brand_name',y='Price')\n",
    "plt.show()"
   ]
  },
  {
   "cell_type": "code",
   "execution_count": null,
   "id": "39349890",
   "metadata": {},
   "outputs": [],
   "source": [
    "#Model and Price \n",
    "#this comparision will not make any sense as it will be giving you the model"
   ]
  },
  {
   "cell_type": "code",
   "execution_count": null,
   "id": "94bb5f3d",
   "metadata": {},
   "outputs": [],
   "source": [
    "#Price and has_5g\n",
    "sns.catplot(data=df,x='Has_5G',y='Price',kind='bar',estimator='mean')"
   ]
  },
  {
   "cell_type": "code",
   "execution_count": null,
   "id": "dd314efe",
   "metadata": {},
   "outputs": [],
   "source": [
    "df[df['Has_5G'] == True]['Price'].mean()"
   ]
  },
  {
   "cell_type": "code",
   "execution_count": null,
   "id": "99181351",
   "metadata": {},
   "outputs": [],
   "source": [
    "df[df['Has_5G'] == False]['Price'].mean()"
   ]
  },
  {
   "cell_type": "code",
   "execution_count": null,
   "id": "dc31f570",
   "metadata": {},
   "outputs": [],
   "source": [
    "sns.catplot(data=df,x='Has_5G',y='Price',kind='strip')"
   ]
  },
  {
   "cell_type": "code",
   "execution_count": null,
   "id": "d76ad0d9",
   "metadata": {},
   "outputs": [],
   "source": [
    "#Price and has_nfc - Positive relation \n",
    "\n",
    "sns.catplot(data=df,x='Has_NFC',y='Price',estimator=np.median,kind='bar')\n"
   ]
  },
  {
   "cell_type": "code",
   "execution_count": null,
   "id": "f7748b11",
   "metadata": {},
   "outputs": [],
   "source": [
    "df[df['Has_NFC'] == True]['Price'].mean()"
   ]
  },
  {
   "cell_type": "code",
   "execution_count": null,
   "id": "8e90451a",
   "metadata": {},
   "outputs": [],
   "source": [
    "df[df['Has_NFC'] == False]['Price'].mean()"
   ]
  },
  {
   "cell_type": "code",
   "execution_count": null,
   "id": "75a1f4a4",
   "metadata": {},
   "outputs": [],
   "source": [
    "sns.pointplot(data=df,x='Has_NFC',y='Price',estimator=np.median)\n",
    "plt.grid(True)"
   ]
  },
  {
   "cell_type": "code",
   "execution_count": null,
   "id": "04b8c354",
   "metadata": {},
   "outputs": [],
   "source": [
    "#Price and has_ir - Not any relation, I think so\n",
    "sns.barplot(data=df,x='Has_IR',y='Price',estimator=np.median)"
   ]
  },
  {
   "cell_type": "code",
   "execution_count": null,
   "id": "850ab828",
   "metadata": {},
   "outputs": [],
   "source": [
    "df.pivot_table(index='Has_IR',values='Price',aggfunc='mean')"
   ]
  },
  {
   "cell_type": "code",
   "execution_count": null,
   "id": "0f462372",
   "metadata": {},
   "outputs": [],
   "source": [
    "sns.catplot(data=df,x='Has_IR',y='Price',kind='strip')"
   ]
  },
  {
   "cell_type": "code",
   "execution_count": null,
   "id": "23754b4e",
   "metadata": {},
   "outputs": [],
   "source": [
    "#Processor_brand and Price\n",
    "# plt.figure(figsize=(20,10))\n",
    "sns.catplot(data=df,x='Processor_brand',y='Price',kind='bar',estimator='median',height = 10,aspect= 2)"
   ]
  },
  {
   "cell_type": "code",
   "execution_count": null,
   "id": "2ed0f7b8",
   "metadata": {},
   "outputs": [],
   "source": [
    "df.pivot_table(values='Price',index='Processor_brand',aggfunc='mean').sort_values(by ='Price',ascending=False)"
   ]
  },
  {
   "cell_type": "code",
   "execution_count": null,
   "id": "d2d1718a",
   "metadata": {},
   "outputs": [],
   "source": [
    "sns.catplot(data=df,x='Processor_brand',y='Price',kind='strip',height = 10,aspect= 2)"
   ]
  },
  {
   "cell_type": "code",
   "execution_count": null,
   "id": "0cc7b9c8",
   "metadata": {},
   "outputs": [],
   "source": [
    "#Conclusion \n",
    "\n",
    "# The average price of the phone who are having the bionic chip(103171) are higher compare to other smartphone "
   ]
  },
  {
   "cell_type": "code",
   "execution_count": null,
   "id": "eb5bc230",
   "metadata": {},
   "outputs": [],
   "source": [
    "#Processor_core and Price\n",
    "sns.catplot(data=df,x='Processor_core',y='Price',kind='bar',estimator='mean')"
   ]
  },
  {
   "cell_type": "code",
   "execution_count": null,
   "id": "c9f72c8b",
   "metadata": {},
   "outputs": [],
   "source": [
    "df.pivot_table(values='Price',index='Processor_core',aggfunc='mean').sort_values(by ='Price',ascending=False)"
   ]
  },
  {
   "cell_type": "code",
   "execution_count": null,
   "id": "a9dbe4bd",
   "metadata": {},
   "outputs": [],
   "source": [
    "sns.catplot(data=df,x='Processor_core',y='Price',kind='strip',estimator='mean')"
   ]
  },
  {
   "cell_type": "code",
   "execution_count": null,
   "id": "0eddbb68",
   "metadata": {},
   "outputs": [],
   "source": [
    "#Conclusion \n",
    "#The Most of the phone which are having a hexa Core Processor has a average price 95195.1 and then followed by Octa_core with average price 30373.5"
   ]
  },
  {
   "cell_type": "code",
   "execution_count": null,
   "id": "38656073",
   "metadata": {},
   "outputs": [],
   "source": [
    "#Price and Ram\n",
    "\n",
    "sns.catplot(data=df,x='Ram',y='Price',kind='bar',estimator='mean')"
   ]
  },
  {
   "cell_type": "code",
   "execution_count": null,
   "id": "a67b2c27",
   "metadata": {},
   "outputs": [],
   "source": [
    "sns.catplot(data=df,x='Ram',y='Price',kind='strip',estimator='mean')"
   ]
  },
  {
   "cell_type": "code",
   "execution_count": null,
   "id": "3f7ad41e",
   "metadata": {},
   "outputs": [],
   "source": [
    "#Conclusion \n",
    "#The phone which are having 18Gb of Ram has a Highest price in the Indian market"
   ]
  },
  {
   "cell_type": "code",
   "execution_count": null,
   "id": "6e07a17d",
   "metadata": {},
   "outputs": [],
   "source": [
    "#Price and Rom\n",
    "\n",
    "sns.catplot(data=df,y='Price',x='Rom',kind='bar',height = 3,aspect=2)\n"
   ]
  },
  {
   "cell_type": "code",
   "execution_count": null,
   "id": "f5b40a14",
   "metadata": {},
   "outputs": [],
   "source": [
    "df.pivot_table(values='Price',index='Rom',aggfunc='mean').sort_values(by ='Price',ascending=False)"
   ]
  },
  {
   "cell_type": "code",
   "execution_count": null,
   "id": "4655a771",
   "metadata": {},
   "outputs": [],
   "source": [
    "sns.catplot(data=df,y='Price',x='Rom',kind='strip',height = 3,aspect=2)"
   ]
  },
  {
   "cell_type": "code",
   "execution_count": null,
   "id": "1f9ae52f",
   "metadata": {},
   "outputs": [],
   "source": [
    "#Conclusion \n",
    "#When Phone Rom is increasing then the Average price of the Phone is also increasing but number of phone are getting resuced"
   ]
  },
  {
   "cell_type": "code",
   "execution_count": null,
   "id": "729a7310",
   "metadata": {},
   "outputs": [],
   "source": [
    "#Has_fast_charging\tand Price"
   ]
  },
  {
   "cell_type": "code",
   "execution_count": null,
   "id": "7fd453a4",
   "metadata": {},
   "outputs": [],
   "source": [
    "sns.catplot(data=df,y='Price',x='Has_fast_charging',kind='bar',height = 3,aspect=2)"
   ]
  },
  {
   "cell_type": "code",
   "execution_count": null,
   "id": "42371084",
   "metadata": {},
   "outputs": [],
   "source": [
    "df.pivot_table(values='Price',index='Has_fast_charging',aggfunc='mean').sort_values(by ='Price',ascending=False)"
   ]
  },
  {
   "cell_type": "code",
   "execution_count": null,
   "id": "cb09ceaf",
   "metadata": {},
   "outputs": [],
   "source": [
    "sns.catplot(data=df,y='Price',x='Has_fast_charging',kind='strip',height = 3,aspect=2)"
   ]
  },
  {
   "cell_type": "code",
   "execution_count": null,
   "id": "b467ae9a",
   "metadata": {},
   "outputs": [],
   "source": [
    "#Conclusion \n",
    "#Most of the Phone in indian market are offering this feature and for on average customer need to pay almost 13000 more"
   ]
  },
  {
   "cell_type": "code",
   "execution_count": null,
   "id": "6352cedf",
   "metadata": {},
   "outputs": [],
   "source": [
    "#Refresh_rate and Price\n",
    "sns.catplot(data=df,x='Refresh_rate',y='Price',kind='bar')"
   ]
  },
  {
   "cell_type": "code",
   "execution_count": null,
   "id": "929f9a9b",
   "metadata": {},
   "outputs": [],
   "source": [
    "sns.catplot(data=df,x='Refresh_rate',y='Price',kind='strip',estimator='mean')"
   ]
  },
  {
   "cell_type": "code",
   "execution_count": null,
   "id": "5c985a04",
   "metadata": {},
   "outputs": [],
   "source": [
    "df.pivot_table(values='Price',index='Refresh_rate',aggfunc='mean').sort_values(by ='Price',ascending=False)"
   ]
  },
  {
   "cell_type": "code",
   "execution_count": null,
   "id": "fdc3a9f0",
   "metadata": {},
   "outputs": [],
   "source": [
    "#Front_camera\n",
    "\n",
    "sns.catplot(data=df,x='Front_camera',y='Price',kind='bar')"
   ]
  },
  {
   "cell_type": "code",
   "execution_count": null,
   "id": "233c74cd",
   "metadata": {},
   "outputs": [],
   "source": [
    "sns.catplot(data=df,x='Front_camera',y='Price',kind='strip')"
   ]
  },
  {
   "cell_type": "code",
   "execution_count": null,
   "id": "ccfd0a1f",
   "metadata": {},
   "outputs": [],
   "source": [
    "df.pivot_table(values='Price',index='Front_camera',aggfunc='mean').sort_values(by ='Price',ascending=False)"
   ]
  },
  {
   "cell_type": "code",
   "execution_count": null,
   "id": "c0feb77f",
   "metadata": {},
   "outputs": [],
   "source": [
    "#Conclusion - Customer will pay more if they select two front camera "
   ]
  },
  {
   "cell_type": "code",
   "execution_count": null,
   "id": "33d54317",
   "metadata": {},
   "outputs": [],
   "source": [
    "#Rear_camera and Price\n",
    "\n",
    "sns.catplot(data=df,x='Rear_camera',y='Price',kind='bar')\n"
   ]
  },
  {
   "cell_type": "code",
   "execution_count": null,
   "id": "b365da28",
   "metadata": {},
   "outputs": [],
   "source": [
    "\n",
    "sns.catplot(data=df,x='Rear_camera',y='Price',kind='strip')"
   ]
  },
  {
   "cell_type": "code",
   "execution_count": null,
   "id": "732c4a7d",
   "metadata": {},
   "outputs": [],
   "source": [
    "df.pivot_table(values='Price',index='Rear_camera',aggfunc='mean').sort_values(by ='Price',ascending=False)"
   ]
  },
  {
   "cell_type": "code",
   "execution_count": null,
   "id": "d3712aec",
   "metadata": {},
   "outputs": [],
   "source": [
    "#Memory_card_support and Price\n",
    "\n",
    "sns.catplot(data=df,x='Memory_card_support',y='Price',kind='bar')"
   ]
  },
  {
   "cell_type": "code",
   "execution_count": null,
   "id": "4c60e63e",
   "metadata": {},
   "outputs": [],
   "source": [
    "sns.catplot(data=df,x='Memory_card_support',y='Price',kind='strip')"
   ]
  },
  {
   "cell_type": "code",
   "execution_count": null,
   "id": "6c2d4b63",
   "metadata": {},
   "outputs": [],
   "source": [
    "df.pivot_table(values='Price',index='Memory_card_support',aggfunc='mean').sort_values(by ='Price',ascending=False)"
   ]
  },
  {
   "cell_type": "code",
   "execution_count": null,
   "id": "833deca9",
   "metadata": {},
   "outputs": [],
   "source": [
    "#Os_name and Price\n",
    "\n",
    "sns.catplot(data=df,x='Os_name',y='Price',kind='bar',height = 4,aspect=3)"
   ]
  },
  {
   "cell_type": "code",
   "execution_count": null,
   "id": "b9027634",
   "metadata": {},
   "outputs": [],
   "source": [
    "sns.catplot(data=df,x='Os_name',y='Price',kind='strip',height = 4,aspect=3)"
   ]
  },
  {
   "cell_type": "code",
   "execution_count": null,
   "id": "b1b5518c",
   "metadata": {},
   "outputs": [],
   "source": [
    "df.pivot_table(values='Price',index='Os_name',aggfunc='mean').sort_values(by ='Price',ascending=False)"
   ]
  },
  {
   "cell_type": "code",
   "execution_count": null,
   "id": "1262b9ec",
   "metadata": {},
   "outputs": [],
   "source": [
    "#Conclusion \n",
    "#If you are customer and wants to take the phone and Price is the important factor then consider phone with android system"
   ]
  },
  {
   "cell_type": "markdown",
   "id": "ea0fe951",
   "metadata": {},
   "source": [
    "## 3 Categorical and Categorical column "
   ]
  },
  {
   "cell_type": "code",
   "execution_count": null,
   "id": "6b69d764",
   "metadata": {},
   "outputs": [],
   "source": [
    "#Brand_name and \n",
    "\n",
    "temp_df = df.pivot_table(index='Brand_name',values=['Model','Price'],aggfunc={'Model':'count','Price':'mean'})\n",
    "# sns.heatmap(data=temp_df)"
   ]
  },
  {
   "cell_type": "code",
   "execution_count": null,
   "id": "a7ecb6d7",
   "metadata": {},
   "outputs": [],
   "source": [
    "#Brand_name and Has_5G\n",
    "\n",
    "temp_df = df.groupby(by=['Brand_name','Has_5G'])['Brand_name'].value_counts().sort_values(ascending=False).reset_index()"
   ]
  },
  {
   "cell_type": "markdown",
   "id": "7e7076fc",
   "metadata": {},
   "source": [
    "## KNN Imputer "
   ]
  },
  {
   "cell_type": "code",
   "execution_count": null,
   "id": "2d11826b",
   "metadata": {},
   "outputs": [],
   "source": [
    "df"
   ]
  },
  {
   "cell_type": "code",
   "execution_count": null,
   "id": "3cadb7dc",
   "metadata": {},
   "outputs": [],
   "source": [
    "# df.corr()['Rating']\n",
    "\n",
    "#Rating has a connection with all of the column and then it will impact the total data\n",
    "#How to fill the Missing value - KNN Imputer \n",
    "#It will fill all the value \n",
    "\n",
    "x_df = df.select_dtypes(include=['int64','float64']).drop(columns = ['Price'])\n"
   ]
  },
  {
   "cell_type": "code",
   "execution_count": null,
   "id": "be6c5dc7",
   "metadata": {},
   "outputs": [],
   "source": [
    "from sklearn.impute import KNNImputer"
   ]
  },
  {
   "cell_type": "code",
   "execution_count": null,
   "id": "80a890dd",
   "metadata": {},
   "outputs": [],
   "source": [
    "imputer = KNNImputer(n_neighbors = 5)"
   ]
  },
  {
   "cell_type": "code",
   "execution_count": null,
   "id": "e7ce7a6f",
   "metadata": {},
   "outputs": [],
   "source": [
    "x_df_values = imputer.fit_transform(x_df)"
   ]
  },
  {
   "cell_type": "code",
   "execution_count": null,
   "id": "9adc9026",
   "metadata": {},
   "outputs": [],
   "source": [
    "temp_df = pd.DataFrame(x_df_values,columns = x_df.columns)"
   ]
  },
  {
   "cell_type": "code",
   "execution_count": null,
   "id": "fa6b8a33",
   "metadata": {},
   "outputs": [],
   "source": [
    "temp_df.isnull().sum()"
   ]
  },
  {
   "cell_type": "code",
   "execution_count": null,
   "id": "a2377ea1",
   "metadata": {},
   "outputs": [],
   "source": [
    "temp_df['Price'] = df['Price']"
   ]
  },
  {
   "cell_type": "code",
   "execution_count": null,
   "id": "9bec2ab1",
   "metadata": {},
   "outputs": [],
   "source": [
    "temp_df.corr().reset_index()"
   ]
  },
  {
   "cell_type": "code",
   "execution_count": null,
   "id": "8a5b1bdc",
   "metadata": {},
   "outputs": [],
   "source": [
    "#Converting your Categorical data into the Numerical sothat you can train the Machine Learning Model\n",
    "\n",
    "pd.get_dummies(data=df,columns=['Brand_name'])"
   ]
  },
  {
   "cell_type": "code",
   "execution_count": null,
   "id": "1c7d9bde",
   "metadata": {},
   "outputs": [],
   "source": [
    "temp_df = df.groupby(by=['Has_NFC','Brand_name'])['Price'].mean().reset_index()\n",
    "plt.figure(figsize=(20,10))\n",
    "sns.barplot(data=temp_df,x='Brand_name',y='Price',hue='Has_NFC')\n",
    "plt.xticks(rotation=30) \n",
    "plt.show()"
   ]
  },
  {
   "cell_type": "code",
   "execution_count": null,
   "id": "3e4918f0",
   "metadata": {},
   "outputs": [],
   "source": [
    "pd.crosstab(df['Brand_name'],df['Has_5G'])"
   ]
  },
  {
   "cell_type": "code",
   "execution_count": null,
   "id": "d7f9e1e2",
   "metadata": {},
   "outputs": [],
   "source": []
  },
  {
   "cell_type": "code",
   "execution_count": null,
   "id": "42f11ba9",
   "metadata": {},
   "outputs": [],
   "source": []
  }
 ],
 "metadata": {
  "kernelspec": {
   "display_name": "Machinelearning_new",
   "language": "python",
   "name": "python3"
  },
  "language_info": {
   "codemirror_mode": {
    "name": "ipython",
    "version": 3
   },
   "file_extension": ".py",
   "mimetype": "text/x-python",
   "name": "python",
   "nbconvert_exporter": "python",
   "pygments_lexer": "ipython3",
   "version": "3.11.11"
  }
 },
 "nbformat": 4,
 "nbformat_minor": 5
}
