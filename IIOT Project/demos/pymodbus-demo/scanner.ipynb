{
 "cells": [
  {
   "cell_type": "code",
   "execution_count": 17,
   "id": "initial_id",
   "metadata": {
    "collapsed": true,
    "ExecuteTime": {
     "end_time": "2023-11-27T17:15:32.703882701Z",
     "start_time": "2023-11-27T17:15:32.662923906Z"
    }
   },
   "outputs": [],
   "source": [
    "from pymodbus.client import ModbusSerialClient\n",
    "from pymodbus.framer import ModbusRtuFramer"
   ]
  },
  {
   "cell_type": "markdown",
   "source": [
    "The following cell scans all available baudrates and requestst the device address from the modbus broadcast `0x00`.\n",
    "Just adjust the `port` to your needs."
   ],
   "metadata": {
    "collapsed": false
   },
   "id": "ec958a3388adb46d"
  },
  {
   "cell_type": "code",
   "execution_count": 18,
   "outputs": [
    {
     "name": "stdout",
     "output_type": "stream",
     "text": [
      "Scanning current Baudrate 19200\r\n",
      "Current baudrate might be: 19200\n",
      "Device address might be: 5\n"
     ]
    }
   ],
   "source": [
    "port = \"/dev/ttyUSB1\"\n",
    "\n",
    "baudrates = [\n",
    "    1200,\n",
    "    2400,\n",
    "    4800,\n",
    "    9600,\n",
    "    19200\n",
    "]\n",
    "\n",
    "scanned_baudrate = 0\n",
    "scanned_address = 1\n",
    "\n",
    "for baudrate in baudrates:\n",
    "    client = ModbusSerialClient(port=port,\n",
    "                                framer=ModbusRtuFramer,\n",
    "                                baudrate=baudrate,\n",
    "                                bytesize=8,\n",
    "                                parity='N',\n",
    "                                stopbits=1)\n",
    "    \n",
    "    client.connect()\n",
    "    \n",
    "    if client.connected:\n",
    "        print(f\"Scanning current Baudrate {baudrate}\", end='\\r')\n",
    "        response = client.read_holding_registers(0x0002, 1, slave=0xff)\n",
    "        if not response.isError():\n",
    "            print(f\"\\nCurrent baudrate might be: {baudrate}\")\n",
    "            print(f\"Device address might be: {response.registers[0]}\")\n",
    "            scanned_baudrate = baudrate\n",
    "            client.close()\n",
    "            break\n",
    "        else:\n",
    "            continue\n",
    "            \n",
    "client.close()"
   ],
   "metadata": {
    "collapsed": false,
    "ExecuteTime": {
     "end_time": "2023-11-27T17:15:57.819423436Z",
     "start_time": "2023-11-27T17:15:33.421860819Z"
    }
   },
   "id": "b523a8facb40ca00"
  },
  {
   "cell_type": "markdown",
   "source": [
    "The following code cell now uses the determined baudrate to scan for slave devices on the bus.\n",
    "Usually this should work, but sometimes you might have to overwrite the `scanned_baudrate` if the\n",
    "previous code cell did not work."
   ],
   "metadata": {
    "collapsed": false
   },
   "id": "9c433ff29cc7c7fa"
  },
  {
   "cell_type": "code",
   "execution_count": null,
   "outputs": [],
   "source": [
    "scanner = ModbusSerialClient(port=port,\n",
    "                             framer=ModbusRtuFramer,\n",
    "                             baudrate=scanned_baudrate,\n",
    "                             bytesize=8,\n",
    "                             parity='N',\n",
    "                             stopbits=1)\n",
    "\n",
    "scanner.connect()\n",
    "\n",
    "if not scanner.connected:\n",
    "    print(\"Error connecting to modbus. Please set correct port and baudrate manually!\\n\")\n",
    "    exit(-1)\n",
    "    \n",
    "for addr in range(1, 247, 1):\n",
    "    response = scanner.read_holding_registers(address=0x0002,\n",
    "                                             count=1,\n",
    "                                             slave=addr)\n",
    "    \n",
    "    print(f\"Scanning slave address {addr} without response\\r\")\n",
    "    \n",
    "    if response.isError():\n",
    "        continue\n",
    "    else:\n",
    "        print(f\"\\nSensor might be at slave address {addr}\")\n",
    "        print(f\"\\nRegister 0x0002 contains {response.registers[0]}\")\n",
    "        exit(0)\n",
    "        \n"
   ],
   "metadata": {
    "collapsed": false
   },
   "id": "6ec9e79e81764b46"
  },
  {
   "cell_type": "markdown",
   "source": [
    "Maybe it's possible to use this scanner and ajdust it a bit to detect at which baudrate and on which slave address the sensor operates."
   ],
   "metadata": {
    "collapsed": false
   },
   "id": "c9d070624e667542"
  },
  {
   "cell_type": "code",
   "execution_count": 3,
   "outputs": [
    {
     "name": "stdout",
     "output_type": "stream",
     "text": [
      "Written default device slave-address and baudrate to register!\n"
     ]
    }
   ],
   "source": [
    "setter = ModbusSerialClient(port=port,\n",
    "                             framer=ModbusRtuFramer,\n",
    "                             baudrate=scanned_baudrate,\n",
    "                             bytesize=8,\n",
    "                             parity='N',\n",
    "                             stopbits=1)\n",
    "setter.connect()\n",
    "\n",
    "if not setter.connected:\n",
    "    print(\"Error connecting to modbus. Please set correct port and baudrate manually!\\n\")\n",
    "    exit(-1)\n",
    "    \n",
    "\n",
    "setter.write_register(address=0x0002,\n",
    "                      value=0x05,\n",
    "                      slave=scanned_address)\n",
    "\n",
    "print(\"Written default device slave-address to register!\")"
   ],
   "metadata": {
    "collapsed": false,
    "ExecuteTime": {
     "end_time": "2023-11-27T16:50:48.532807726Z",
     "start_time": "2023-11-27T16:50:36.335319476Z"
    }
   },
   "id": "9416e40507008844"
  },
  {
   "cell_type": "code",
   "execution_count": 16,
   "outputs": [
    {
     "name": "stdout",
     "output_type": "stream",
     "text": [
      "Written default device baudrate to register!\n"
     ]
    }
   ],
   "source": [
    "setter = ModbusSerialClient(port=port,\n",
    "                             framer=ModbusRtuFramer,\n",
    "                             baudrate=scanned_baudrate,\n",
    "                             bytesize=8,\n",
    "                             parity='N',\n",
    "                             stopbits=1)\n",
    "setter.connect()\n",
    "if not setter.connected:\n",
    "    print(\"Error connecting to modbus. Please set correct port and baudrate manually!\\n\")\n",
    "    exit(-1)\n",
    "\n",
    "setter.write_register(address=0x0003,\n",
    "                      value=3,\n",
    "                      slave=scanned_address)\n",
    "\n",
    "print(\"Written default device baudrate to register!\")"
   ],
   "metadata": {
    "collapsed": false,
    "ExecuteTime": {
     "end_time": "2023-11-27T17:13:38.244370957Z",
     "start_time": "2023-11-27T17:13:32.097565920Z"
    }
   },
   "id": "d0cfc606348d14c6"
  },
  {
   "cell_type": "code",
   "execution_count": 9,
   "outputs": [],
   "source": [],
   "metadata": {
    "collapsed": false,
    "ExecuteTime": {
     "end_time": "2023-11-27T16:55:02.980642968Z",
     "start_time": "2023-11-27T16:55:02.940183428Z"
    }
   },
   "id": "2678489e6f313c85"
  },
  {
   "cell_type": "code",
   "execution_count": null,
   "outputs": [],
   "source": [],
   "metadata": {
    "collapsed": false
   },
   "id": "b1f64fcc987b5277"
  }
 ],
 "metadata": {
  "kernelspec": {
   "display_name": "Python 3",
   "language": "python",
   "name": "python3"
  },
  "language_info": {
   "codemirror_mode": {
    "name": "ipython",
    "version": 2
   },
   "file_extension": ".py",
   "mimetype": "text/x-python",
   "name": "python",
   "nbconvert_exporter": "python",
   "pygments_lexer": "ipython2",
   "version": "2.7.6"
  }
 },
 "nbformat": 4,
 "nbformat_minor": 5
}
