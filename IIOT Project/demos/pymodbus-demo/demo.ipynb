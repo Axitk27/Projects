{
 "cells": [
  {
   "cell_type": "code",
   "execution_count": 10,
   "id": "initial_id",
   "metadata": {
    "collapsed": true,
    "ExecuteTime": {
     "end_time": "2023-11-27T16:57:14.044747319Z",
     "start_time": "2023-11-27T16:57:14.030450765Z"
    }
   },
   "outputs": [],
   "source": [
    "from pymodbus.client import ModbusSerialClient\n",
    "from pymodbus.framer import ModbusRtuFramer"
   ]
  },
  {
   "cell_type": "markdown",
   "source": [
    "Configure modbus client object by using /dev/ttyUSB0 as serial port with the data from the temperature sensor datasheet\n",
    "On windows maybe you have to change e.g. to COM1, COM2, ... "
   ],
   "metadata": {
    "collapsed": false
   },
   "id": "e71d427d55cec036"
  },
  {
   "cell_type": "code",
   "execution_count": 16,
   "outputs": [
    {
     "data": {
      "text/plain": "True"
     },
     "execution_count": 16,
     "metadata": {},
     "output_type": "execute_result"
    }
   ],
   "source": [
    "client = ModbusSerialClient(port=\"/dev/ttyUSB1\",\n",
    "                            framer=ModbusRtuFramer,\n",
    "                            baudrate=9600,\n",
    "                            bytesize=8,\n",
    "                            parity='N',\n",
    "                            stopbits=1)\n",
    "\n",
    "client.connect()"
   ],
   "metadata": {
    "collapsed": false,
    "ExecuteTime": {
     "end_time": "2023-11-27T17:02:24.595399875Z",
     "start_time": "2023-11-27T17:02:24.565191867Z"
    }
   },
   "id": "e6ef9a755a234533"
  },
  {
   "cell_type": "markdown",
   "source": [
    "Read the temperature from *holding register* `0`\n",
    "Important: We need to specify the device address on the bus: `0x05`"
   ],
   "metadata": {
    "collapsed": false
   },
   "id": "76bc88361ad908a5"
  },
  {
   "cell_type": "code",
   "execution_count": 17,
   "outputs": [
    {
     "ename": "AttributeError",
     "evalue": "'ModbusIOException' object has no attribute 'registers'",
     "output_type": "error",
     "traceback": [
      "\u001B[0;31m---------------------------------------------------------------------------\u001B[0m",
      "\u001B[0;31mAttributeError\u001B[0m                            Traceback (most recent call last)",
      "Cell \u001B[0;32mIn[17], line 6\u001B[0m\n\u001B[1;32m      1\u001B[0m \u001B[38;5;28;01mif\u001B[39;00m client\u001B[38;5;241m.\u001B[39mconnected:\n\u001B[1;32m      2\u001B[0m     response \u001B[38;5;241m=\u001B[39m client\u001B[38;5;241m.\u001B[39mread_holding_registers(address\u001B[38;5;241m=\u001B[39m\u001B[38;5;241m0x0000\u001B[39m,\n\u001B[1;32m      3\u001B[0m                                              count\u001B[38;5;241m=\u001B[39m\u001B[38;5;241m1\u001B[39m,\n\u001B[1;32m      4\u001B[0m                                              slave\u001B[38;5;241m=\u001B[39m\u001B[38;5;241m0x05\u001B[39m)\n\u001B[0;32m----> 6\u001B[0m     raw_temperature \u001B[38;5;241m=\u001B[39m \u001B[43mresponse\u001B[49m\u001B[38;5;241;43m.\u001B[39;49m\u001B[43mregisters\u001B[49m[\u001B[38;5;241m0\u001B[39m]\n\u001B[1;32m      7\u001B[0m     real_temperature \u001B[38;5;241m=\u001B[39m raw_temperature \u001B[38;5;241m*\u001B[39m \u001B[38;5;241m0.1\u001B[39m\n\u001B[1;32m      9\u001B[0m     \u001B[38;5;28mprint\u001B[39m(\u001B[38;5;124mf\u001B[39m\u001B[38;5;124m\"\u001B[39m\u001B[38;5;124mTemperature: \u001B[39m\u001B[38;5;132;01m{\u001B[39;00mreal_temperature\u001B[38;5;132;01m}\u001B[39;00m\u001B[38;5;124m °C\u001B[39m\u001B[38;5;124m\"\u001B[39m)\n",
      "\u001B[0;31mAttributeError\u001B[0m: 'ModbusIOException' object has no attribute 'registers'"
     ]
    }
   ],
   "source": [
    "if client.connected:\n",
    "    response = client.read_holding_registers(address=0x0000,\n",
    "                                             count=1,\n",
    "                                             slave=0x05)\n",
    "    \n",
    "    raw_temperature = response.registers[0]\n",
    "    real_temperature = raw_temperature * 0.1\n",
    "    \n",
    "    print(f\"Temperature: {real_temperature} °C\")\n",
    "    print(f\"Raw temperature: {raw_temperature}\")"
   ],
   "metadata": {
    "collapsed": false,
    "ExecuteTime": {
     "end_time": "2023-11-27T17:02:31.898885154Z",
     "start_time": "2023-11-27T17:02:25.807362579Z"
    }
   },
   "id": "7ec814e366e8c643"
  },
  {
   "cell_type": "markdown",
   "source": [
    "Now readout the *holding register* with humidity value"
   ],
   "metadata": {
    "collapsed": false
   },
   "id": "ba2337239bdc517e"
  },
  {
   "cell_type": "code",
   "execution_count": 15,
   "outputs": [
    {
     "name": "stdout",
     "output_type": "stream",
     "text": [
      "Humidity: 54.7 %RH\n",
      "Raw humidity: 547\n"
     ]
    }
   ],
   "source": [
    "if client.connected:\n",
    "    response = client.read_holding_registers(address=0x0001,\n",
    "                                             count=1,\n",
    "                                             slave=0x05)\n",
    "    raw_humidity = response.registers[0]\n",
    "    real_humidity = raw_humidity * 0.1\n",
    "    \n",
    "    print(f\"Humidity: {real_humidity} %RH\")\n",
    "    print(f\"Raw humidity: {raw_humidity}\")"
   ],
   "metadata": {
    "collapsed": false,
    "ExecuteTime": {
     "end_time": "2023-11-27T16:59:33.836506846Z",
     "start_time": "2023-11-27T16:59:33.660461498Z"
    }
   },
   "id": "25e00de7048220f7"
  },
  {
   "cell_type": "markdown",
   "source": [
    "TODO: Change baudrate and reconnect:\n",
    "- Write to register using `client.write_coil` or `client.write_register` to set baudrate to 115200\n",
    "- Disconnect client\n",
    "- Create client2 that connects to device again with baudrate 115200\n",
    "- Read Temperature and humidity again\n",
    "- Set baudrate to default 9600\n",
    "- Disconnect\n",
    "\n",
    "Advanced documentation:\n",
    "https://pymodbus.readthedocs.io/en/latest/\n",
    "\n",
    "Documentation on registers for the temperature sensor module is in the git repo!"
   ],
   "metadata": {
    "collapsed": false
   },
   "id": "6aec3f41d6d281b8"
  }
 ],
 "metadata": {
  "kernelspec": {
   "display_name": "Python 3",
   "language": "python",
   "name": "python3"
  },
  "language_info": {
   "codemirror_mode": {
    "name": "ipython",
    "version": 2
   },
   "file_extension": ".py",
   "mimetype": "text/x-python",
   "name": "python",
   "nbconvert_exporter": "python",
   "pygments_lexer": "ipython2",
   "version": "2.7.6"
  }
 },
 "nbformat": 4,
 "nbformat_minor": 5
}
