{
 "cells": [
  {
   "cell_type": "code",
   "execution_count": 2,
   "id": "0f6aba85-3f5c-4203-b1a7-af7f4d0210b5",
   "metadata": {},
   "outputs": [],
   "source": [
    "import pymodbus"
   ]
  },
  {
   "cell_type": "code",
   "execution_count": 23,
   "id": "dc9ed35e-bc4c-4139-b5c2-4dc40f9a3a40",
   "metadata": {},
   "outputs": [],
   "source": [
    "from pymodbus.client import ModbusSerialClient\n",
    "from pymodbus.framer import ModbusRtuFramer\n",
    "from pymodbus.exceptions import ModbusIOException"
   ]
  },
  {
   "cell_type": "code",
   "execution_count": 24,
   "id": "7761c450-c84d-4b79-bc68-e7a6b8769507",
   "metadata": {
    "scrolled": true
   },
   "outputs": [
    {
     "data": {
      "text/plain": [
       "True"
      ]
     },
     "execution_count": 24,
     "metadata": {},
     "output_type": "execute_result"
    }
   ],
   "source": [
    "client = ModbusSerialClient(port=\"COM5\",\n",
    "                            framer=ModbusRtuFramer,\n",
    "                            baudrate=9600,\n",
    "                            bytesize=8,\n",
    "                            parity='N',\n",
    "                            stopbits=1)\n",
    "client.connect()"
   ]
  },
  {
   "cell_type": "code",
   "execution_count": 25,
   "id": "62546ba1-1bd2-4761-b129-69388cabdf02",
   "metadata": {},
   "outputs": [
    {
     "name": "stdout",
     "output_type": "stream",
     "text": [
      "Temperature: 22.5 °C\n",
      "Raw temperature: 225\n"
     ]
    }
   ],
   "source": [
    "if client.connected:\n",
    "    response = client.read_holding_registers(address=0x0000,\n",
    "                                             count=1,\n",
    "                                             slave=0x05)\n",
    "    \n",
    "    raw_temperature = response.registers[0]\n",
    "    real_temperature = raw_temperature * 0.1\n",
    "    \n",
    "    print(f\"Temperature: {real_temperature} °C\")\n",
    "    print(f\"Raw temperature: {raw_temperature}\")\n"
   ]
  },
  {
   "cell_type": "code",
   "execution_count": 26,
   "id": "39e70121-3040-49a0-beea-36cfd3c1cf84",
   "metadata": {},
   "outputs": [
    {
     "name": "stdout",
     "output_type": "stream",
     "text": [
      "Humidity: 43.400000000000006 %RH\n",
      "Raw humidity: 434\n"
     ]
    }
   ],
   "source": [
    "if client.connected:\n",
    "    response = client.read_holding_registers(address=0x0001,\n",
    "                                             count=1,\n",
    "                                             slave=0x05)\n",
    "    raw_humidity = response.registers[0]\n",
    "    real_humidity = raw_humidity * 0.1\n",
    "    \n",
    "    print(f\"Humidity: {real_humidity} %RH\")\n",
    "    print(f\"Raw humidity: {raw_humidity}\")\t\n"
   ]
  },
  {
   "cell_type": "code",
   "execution_count": 27,
   "id": "206fceb7-beff-476b-8a73-a2c9cdd4617f",
   "metadata": {},
   "outputs": [
    {
     "name": "stdout",
     "output_type": "stream",
     "text": [
      "Baudrate changed to 4\n"
     ]
    }
   ],
   "source": [
    "if client.connected:\n",
    "\n",
    "    client.write_register(address=0x0003, value=4, slave=0x05)\n",
    "    print(\"Baudrate changed to 4\")"
   ]
  },
  {
   "cell_type": "code",
   "execution_count": 29,
   "id": "027580d9-854f-4f89-9657-5330ba5e9c87",
   "metadata": {},
   "outputs": [
    {
     "data": {
      "text/plain": [
       "True"
      ]
     },
     "execution_count": 29,
     "metadata": {},
     "output_type": "execute_result"
    }
   ],
   "source": [
    "client2 = ModbusSerialClient(port=\"COM5\",\n",
    "                            framer=ModbusRtuFramer,\n",
    "                            baudrate=19200,\n",
    "                            bytesize=8,\n",
    "                            parity='N',\n",
    "                            stopbits=1)\n",
    "\n",
    "client2.connect()"
   ]
  },
  {
   "cell_type": "code",
   "execution_count": null,
   "id": "f455bbf4-7a8b-4c4b-8b10-43c6ccbd37e1",
   "metadata": {},
   "outputs": [],
   "source": [
    "if client2.connected:\n",
    "    response2 = client2.read_holding_registers(address=0x0000,\n",
    "                                             count=1,\n",
    "                                             slave=0x05)\n",
    "    \n",
    "    raw_temperature = response2.registers[0]\n",
    "    real_temperature = raw_temperature * 0.1\n",
    "    \n",
    "    print(f\"Temperature: {real_temperature} °C\")\n",
    "    print(f\"Raw temperature: {raw_temperature}\")"
   ]
  },
  {
   "cell_type": "code",
   "execution_count": null,
   "id": "c77b6c7f-99be-4501-b200-868f083ab198",
   "metadata": {},
   "outputs": [],
   "source": []
  },
  {
   "cell_type": "code",
   "execution_count": null,
   "id": "d310a82c-fff0-49cf-a33c-ae596ec0a781",
   "metadata": {},
   "outputs": [],
   "source": []
  }
 ],
 "metadata": {
  "kernelspec": {
   "display_name": "Python 3 (ipykernel)",
   "language": "python",
   "name": "python3"
  },
  "language_info": {
   "codemirror_mode": {
    "name": "ipython",
    "version": 3
   },
   "file_extension": ".py",
   "mimetype": "text/x-python",
   "name": "python",
   "nbconvert_exporter": "python",
   "pygments_lexer": "ipython3",
   "version": "3.11.5"
  }
 },
 "nbformat": 4,
 "nbformat_minor": 5
}
